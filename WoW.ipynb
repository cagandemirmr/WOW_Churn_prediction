{
  "nbformat": 4,
  "nbformat_minor": 0,
  "metadata": {
    "colab": {
      "provenance": []
    },
    "kernelspec": {
      "name": "python3",
      "display_name": "Python 3"
    },
    "language_info": {
      "name": "python"
    }
  },
  "cells": [
    {
      "cell_type": "markdown",
      "source": [
        "# WoW Churn Analysis and Prediction"
      ],
      "metadata": {
        "id": "6F5L9Cshvc4E"
      }
    },
    {
      "cell_type": "markdown",
      "source": [
        "In this project, my objective was to analyze the key factors that contribute to player churn in the game World of Warcraft (WoW) and develop a machine learning model to predict future churn based on these insights. By examining various in-game behaviors, engagement patterns, and external factors, I aimed to identify the most significant reasons why players stop playing. The ultimate goal was to leverage these findings to build a predictive model that can help game developers and analysts take proactive measures to improve player retention and enhance overall user experience."
      ],
      "metadata": {
        "id": "yLUYrmlKvnF_"
      }
    },
    {
      "cell_type": "code",
      "execution_count": 3,
      "metadata": {
        "id": "8-ur_OH-t_d7"
      },
      "outputs": [],
      "source": [
        "import numpy as np\n",
        "import pandas as pd\n",
        "import seaborn as sns\n",
        "from matplotlib import pyplot as plt\n",
        "# !pip install missingno\n",
        "import missingno as msno\n",
        "from datetime import date\n",
        "from sklearn.metrics import accuracy_score\n",
        "from sklearn.model_selection import train_test_split\n",
        "from sklearn.neighbors import LocalOutlierFactor\n",
        "from sklearn.preprocessing import MinMaxScaler, LabelEncoder, StandardScaler, RobustScaler"
      ]
    },
    {
      "cell_type": "code",
      "source": [
        "pd.set_option('display.max_columns', None)\n",
        "pd.set_option('display.max_rows', None)\n",
        "pd.set_option('display.float_format', lambda x: '%.3f' % x)\n",
        "pd.set_option('display.width', 500)"
      ],
      "metadata": {
        "id": "DPvvHtB8uFpo"
      },
      "execution_count": 4,
      "outputs": []
    },
    {
      "cell_type": "code",
      "source": [
        "df = pd.read_csv('/content/churn.csv')"
      ],
      "metadata": {
        "id": "oiZVam8cuJR6"
      },
      "execution_count": 5,
      "outputs": []
    },
    {
      "cell_type": "markdown",
      "source": [
        "# EDA"
      ],
      "metadata": {
        "id": "r4N7ze0cwqrY"
      }
    },
    {
      "cell_type": "markdown",
      "source": [
        "In this process, I needed to conduct a thorough exploration of the dataset to ensure its quality and reliability before proceeding with model development. This involved identifying and handling outliers that could skew the analysis, detecting and removing duplicate entries to prevent redundancy, and examining the data types of each column to ensure proper formatting and compatibility for further processing. By performing these initial steps, I aimed to create a clean and well-structured dataset that would serve as a solid foundation for meaningful analysis and accurate predictions."
      ],
      "metadata": {
        "id": "9-LSBsupw5pE"
      }
    },
    {
      "cell_type": "code",
      "source": [
        "df.head(10) #Chechking dataset to understand dataset."
      ],
      "metadata": {
        "colab": {
          "base_uri": "https://localhost:8080/",
          "height": 363
        },
        "id": "Ux62SiiTwpg6",
        "outputId": "d316628b-498d-4e1b-a305-d080b8c53788"
      },
      "execution_count": 6,
      "outputs": [
        {
          "output_type": "execute_result",
          "data": {
            "text/plain": [
              "   Unnamed: 0  char_id  guild  total_timestamps  unique_days  max_level  min_month  max_month  Average_Hour  Average_Playing_density  Playing_after_6_months\n",
              "0           0        2      1                 1            1         18         12         12         0.167                    0.033                       0\n",
              "1           1        7      1               655           50         71          1         12         2.183                    0.137                       1\n",
              "2           2        9      1              2739          133         70          1          6         3.432                    0.727                       1\n",
              "3           3       10      0               674           49         61          7         11         2.293                    0.321                       0\n",
              "4           4       19      1              3001          149         70          1         12         3.357                    0.407                       1\n",
              "5           5       21      1              1513          197         70          1         12         1.280                    0.538                       1\n",
              "6           6       22      1                62           13         63          1         12         0.795                    0.036                       1\n",
              "7           7       23      1              2140          126         71          1         12         2.831                    0.344                       1\n",
              "8           8       26      1                 7            4         61          2         11         0.292                    0.013                       1\n",
              "9           9       27      1               310            8         65          6          7         6.458                    0.131                       0"
            ],
            "text/html": [
              "\n",
              "  <div id=\"df-06639dd4-c928-4515-b7ff-68a1a1cdbbfe\" class=\"colab-df-container\">\n",
              "    <div>\n",
              "<style scoped>\n",
              "    .dataframe tbody tr th:only-of-type {\n",
              "        vertical-align: middle;\n",
              "    }\n",
              "\n",
              "    .dataframe tbody tr th {\n",
              "        vertical-align: top;\n",
              "    }\n",
              "\n",
              "    .dataframe thead th {\n",
              "        text-align: right;\n",
              "    }\n",
              "</style>\n",
              "<table border=\"1\" class=\"dataframe\">\n",
              "  <thead>\n",
              "    <tr style=\"text-align: right;\">\n",
              "      <th></th>\n",
              "      <th>Unnamed: 0</th>\n",
              "      <th>char_id</th>\n",
              "      <th>guild</th>\n",
              "      <th>total_timestamps</th>\n",
              "      <th>unique_days</th>\n",
              "      <th>max_level</th>\n",
              "      <th>min_month</th>\n",
              "      <th>max_month</th>\n",
              "      <th>Average_Hour</th>\n",
              "      <th>Average_Playing_density</th>\n",
              "      <th>Playing_after_6_months</th>\n",
              "    </tr>\n",
              "  </thead>\n",
              "  <tbody>\n",
              "    <tr>\n",
              "      <th>0</th>\n",
              "      <td>0</td>\n",
              "      <td>2</td>\n",
              "      <td>1</td>\n",
              "      <td>1</td>\n",
              "      <td>1</td>\n",
              "      <td>18</td>\n",
              "      <td>12</td>\n",
              "      <td>12</td>\n",
              "      <td>0.167</td>\n",
              "      <td>0.033</td>\n",
              "      <td>0</td>\n",
              "    </tr>\n",
              "    <tr>\n",
              "      <th>1</th>\n",
              "      <td>1</td>\n",
              "      <td>7</td>\n",
              "      <td>1</td>\n",
              "      <td>655</td>\n",
              "      <td>50</td>\n",
              "      <td>71</td>\n",
              "      <td>1</td>\n",
              "      <td>12</td>\n",
              "      <td>2.183</td>\n",
              "      <td>0.137</td>\n",
              "      <td>1</td>\n",
              "    </tr>\n",
              "    <tr>\n",
              "      <th>2</th>\n",
              "      <td>2</td>\n",
              "      <td>9</td>\n",
              "      <td>1</td>\n",
              "      <td>2739</td>\n",
              "      <td>133</td>\n",
              "      <td>70</td>\n",
              "      <td>1</td>\n",
              "      <td>6</td>\n",
              "      <td>3.432</td>\n",
              "      <td>0.727</td>\n",
              "      <td>1</td>\n",
              "    </tr>\n",
              "    <tr>\n",
              "      <th>3</th>\n",
              "      <td>3</td>\n",
              "      <td>10</td>\n",
              "      <td>0</td>\n",
              "      <td>674</td>\n",
              "      <td>49</td>\n",
              "      <td>61</td>\n",
              "      <td>7</td>\n",
              "      <td>11</td>\n",
              "      <td>2.293</td>\n",
              "      <td>0.321</td>\n",
              "      <td>0</td>\n",
              "    </tr>\n",
              "    <tr>\n",
              "      <th>4</th>\n",
              "      <td>4</td>\n",
              "      <td>19</td>\n",
              "      <td>1</td>\n",
              "      <td>3001</td>\n",
              "      <td>149</td>\n",
              "      <td>70</td>\n",
              "      <td>1</td>\n",
              "      <td>12</td>\n",
              "      <td>3.357</td>\n",
              "      <td>0.407</td>\n",
              "      <td>1</td>\n",
              "    </tr>\n",
              "    <tr>\n",
              "      <th>5</th>\n",
              "      <td>5</td>\n",
              "      <td>21</td>\n",
              "      <td>1</td>\n",
              "      <td>1513</td>\n",
              "      <td>197</td>\n",
              "      <td>70</td>\n",
              "      <td>1</td>\n",
              "      <td>12</td>\n",
              "      <td>1.280</td>\n",
              "      <td>0.538</td>\n",
              "      <td>1</td>\n",
              "    </tr>\n",
              "    <tr>\n",
              "      <th>6</th>\n",
              "      <td>6</td>\n",
              "      <td>22</td>\n",
              "      <td>1</td>\n",
              "      <td>62</td>\n",
              "      <td>13</td>\n",
              "      <td>63</td>\n",
              "      <td>1</td>\n",
              "      <td>12</td>\n",
              "      <td>0.795</td>\n",
              "      <td>0.036</td>\n",
              "      <td>1</td>\n",
              "    </tr>\n",
              "    <tr>\n",
              "      <th>7</th>\n",
              "      <td>7</td>\n",
              "      <td>23</td>\n",
              "      <td>1</td>\n",
              "      <td>2140</td>\n",
              "      <td>126</td>\n",
              "      <td>71</td>\n",
              "      <td>1</td>\n",
              "      <td>12</td>\n",
              "      <td>2.831</td>\n",
              "      <td>0.344</td>\n",
              "      <td>1</td>\n",
              "    </tr>\n",
              "    <tr>\n",
              "      <th>8</th>\n",
              "      <td>8</td>\n",
              "      <td>26</td>\n",
              "      <td>1</td>\n",
              "      <td>7</td>\n",
              "      <td>4</td>\n",
              "      <td>61</td>\n",
              "      <td>2</td>\n",
              "      <td>11</td>\n",
              "      <td>0.292</td>\n",
              "      <td>0.013</td>\n",
              "      <td>1</td>\n",
              "    </tr>\n",
              "    <tr>\n",
              "      <th>9</th>\n",
              "      <td>9</td>\n",
              "      <td>27</td>\n",
              "      <td>1</td>\n",
              "      <td>310</td>\n",
              "      <td>8</td>\n",
              "      <td>65</td>\n",
              "      <td>6</td>\n",
              "      <td>7</td>\n",
              "      <td>6.458</td>\n",
              "      <td>0.131</td>\n",
              "      <td>0</td>\n",
              "    </tr>\n",
              "  </tbody>\n",
              "</table>\n",
              "</div>\n",
              "    <div class=\"colab-df-buttons\">\n",
              "\n",
              "  <div class=\"colab-df-container\">\n",
              "    <button class=\"colab-df-convert\" onclick=\"convertToInteractive('df-06639dd4-c928-4515-b7ff-68a1a1cdbbfe')\"\n",
              "            title=\"Convert this dataframe to an interactive table.\"\n",
              "            style=\"display:none;\">\n",
              "\n",
              "  <svg xmlns=\"http://www.w3.org/2000/svg\" height=\"24px\" viewBox=\"0 -960 960 960\">\n",
              "    <path d=\"M120-120v-720h720v720H120Zm60-500h600v-160H180v160Zm220 220h160v-160H400v160Zm0 220h160v-160H400v160ZM180-400h160v-160H180v160Zm440 0h160v-160H620v160ZM180-180h160v-160H180v160Zm440 0h160v-160H620v160Z\"/>\n",
              "  </svg>\n",
              "    </button>\n",
              "\n",
              "  <style>\n",
              "    .colab-df-container {\n",
              "      display:flex;\n",
              "      gap: 12px;\n",
              "    }\n",
              "\n",
              "    .colab-df-convert {\n",
              "      background-color: #E8F0FE;\n",
              "      border: none;\n",
              "      border-radius: 50%;\n",
              "      cursor: pointer;\n",
              "      display: none;\n",
              "      fill: #1967D2;\n",
              "      height: 32px;\n",
              "      padding: 0 0 0 0;\n",
              "      width: 32px;\n",
              "    }\n",
              "\n",
              "    .colab-df-convert:hover {\n",
              "      background-color: #E2EBFA;\n",
              "      box-shadow: 0px 1px 2px rgba(60, 64, 67, 0.3), 0px 1px 3px 1px rgba(60, 64, 67, 0.15);\n",
              "      fill: #174EA6;\n",
              "    }\n",
              "\n",
              "    .colab-df-buttons div {\n",
              "      margin-bottom: 4px;\n",
              "    }\n",
              "\n",
              "    [theme=dark] .colab-df-convert {\n",
              "      background-color: #3B4455;\n",
              "      fill: #D2E3FC;\n",
              "    }\n",
              "\n",
              "    [theme=dark] .colab-df-convert:hover {\n",
              "      background-color: #434B5C;\n",
              "      box-shadow: 0px 1px 3px 1px rgba(0, 0, 0, 0.15);\n",
              "      filter: drop-shadow(0px 1px 2px rgba(0, 0, 0, 0.3));\n",
              "      fill: #FFFFFF;\n",
              "    }\n",
              "  </style>\n",
              "\n",
              "    <script>\n",
              "      const buttonEl =\n",
              "        document.querySelector('#df-06639dd4-c928-4515-b7ff-68a1a1cdbbfe button.colab-df-convert');\n",
              "      buttonEl.style.display =\n",
              "        google.colab.kernel.accessAllowed ? 'block' : 'none';\n",
              "\n",
              "      async function convertToInteractive(key) {\n",
              "        const element = document.querySelector('#df-06639dd4-c928-4515-b7ff-68a1a1cdbbfe');\n",
              "        const dataTable =\n",
              "          await google.colab.kernel.invokeFunction('convertToInteractive',\n",
              "                                                    [key], {});\n",
              "        if (!dataTable) return;\n",
              "\n",
              "        const docLinkHtml = 'Like what you see? Visit the ' +\n",
              "          '<a target=\"_blank\" href=https://colab.research.google.com/notebooks/data_table.ipynb>data table notebook</a>'\n",
              "          + ' to learn more about interactive tables.';\n",
              "        element.innerHTML = '';\n",
              "        dataTable['output_type'] = 'display_data';\n",
              "        await google.colab.output.renderOutput(dataTable, element);\n",
              "        const docLink = document.createElement('div');\n",
              "        docLink.innerHTML = docLinkHtml;\n",
              "        element.appendChild(docLink);\n",
              "      }\n",
              "    </script>\n",
              "  </div>\n",
              "\n",
              "\n",
              "<div id=\"df-286dc3a3-694b-4c5a-815f-adbc50ac7601\">\n",
              "  <button class=\"colab-df-quickchart\" onclick=\"quickchart('df-286dc3a3-694b-4c5a-815f-adbc50ac7601')\"\n",
              "            title=\"Suggest charts\"\n",
              "            style=\"display:none;\">\n",
              "\n",
              "<svg xmlns=\"http://www.w3.org/2000/svg\" height=\"24px\"viewBox=\"0 0 24 24\"\n",
              "     width=\"24px\">\n",
              "    <g>\n",
              "        <path d=\"M19 3H5c-1.1 0-2 .9-2 2v14c0 1.1.9 2 2 2h14c1.1 0 2-.9 2-2V5c0-1.1-.9-2-2-2zM9 17H7v-7h2v7zm4 0h-2V7h2v10zm4 0h-2v-4h2v4z\"/>\n",
              "    </g>\n",
              "</svg>\n",
              "  </button>\n",
              "\n",
              "<style>\n",
              "  .colab-df-quickchart {\n",
              "      --bg-color: #E8F0FE;\n",
              "      --fill-color: #1967D2;\n",
              "      --hover-bg-color: #E2EBFA;\n",
              "      --hover-fill-color: #174EA6;\n",
              "      --disabled-fill-color: #AAA;\n",
              "      --disabled-bg-color: #DDD;\n",
              "  }\n",
              "\n",
              "  [theme=dark] .colab-df-quickchart {\n",
              "      --bg-color: #3B4455;\n",
              "      --fill-color: #D2E3FC;\n",
              "      --hover-bg-color: #434B5C;\n",
              "      --hover-fill-color: #FFFFFF;\n",
              "      --disabled-bg-color: #3B4455;\n",
              "      --disabled-fill-color: #666;\n",
              "  }\n",
              "\n",
              "  .colab-df-quickchart {\n",
              "    background-color: var(--bg-color);\n",
              "    border: none;\n",
              "    border-radius: 50%;\n",
              "    cursor: pointer;\n",
              "    display: none;\n",
              "    fill: var(--fill-color);\n",
              "    height: 32px;\n",
              "    padding: 0;\n",
              "    width: 32px;\n",
              "  }\n",
              "\n",
              "  .colab-df-quickchart:hover {\n",
              "    background-color: var(--hover-bg-color);\n",
              "    box-shadow: 0 1px 2px rgba(60, 64, 67, 0.3), 0 1px 3px 1px rgba(60, 64, 67, 0.15);\n",
              "    fill: var(--button-hover-fill-color);\n",
              "  }\n",
              "\n",
              "  .colab-df-quickchart-complete:disabled,\n",
              "  .colab-df-quickchart-complete:disabled:hover {\n",
              "    background-color: var(--disabled-bg-color);\n",
              "    fill: var(--disabled-fill-color);\n",
              "    box-shadow: none;\n",
              "  }\n",
              "\n",
              "  .colab-df-spinner {\n",
              "    border: 2px solid var(--fill-color);\n",
              "    border-color: transparent;\n",
              "    border-bottom-color: var(--fill-color);\n",
              "    animation:\n",
              "      spin 1s steps(1) infinite;\n",
              "  }\n",
              "\n",
              "  @keyframes spin {\n",
              "    0% {\n",
              "      border-color: transparent;\n",
              "      border-bottom-color: var(--fill-color);\n",
              "      border-left-color: var(--fill-color);\n",
              "    }\n",
              "    20% {\n",
              "      border-color: transparent;\n",
              "      border-left-color: var(--fill-color);\n",
              "      border-top-color: var(--fill-color);\n",
              "    }\n",
              "    30% {\n",
              "      border-color: transparent;\n",
              "      border-left-color: var(--fill-color);\n",
              "      border-top-color: var(--fill-color);\n",
              "      border-right-color: var(--fill-color);\n",
              "    }\n",
              "    40% {\n",
              "      border-color: transparent;\n",
              "      border-right-color: var(--fill-color);\n",
              "      border-top-color: var(--fill-color);\n",
              "    }\n",
              "    60% {\n",
              "      border-color: transparent;\n",
              "      border-right-color: var(--fill-color);\n",
              "    }\n",
              "    80% {\n",
              "      border-color: transparent;\n",
              "      border-right-color: var(--fill-color);\n",
              "      border-bottom-color: var(--fill-color);\n",
              "    }\n",
              "    90% {\n",
              "      border-color: transparent;\n",
              "      border-bottom-color: var(--fill-color);\n",
              "    }\n",
              "  }\n",
              "</style>\n",
              "\n",
              "  <script>\n",
              "    async function quickchart(key) {\n",
              "      const quickchartButtonEl =\n",
              "        document.querySelector('#' + key + ' button');\n",
              "      quickchartButtonEl.disabled = true;  // To prevent multiple clicks.\n",
              "      quickchartButtonEl.classList.add('colab-df-spinner');\n",
              "      try {\n",
              "        const charts = await google.colab.kernel.invokeFunction(\n",
              "            'suggestCharts', [key], {});\n",
              "      } catch (error) {\n",
              "        console.error('Error during call to suggestCharts:', error);\n",
              "      }\n",
              "      quickchartButtonEl.classList.remove('colab-df-spinner');\n",
              "      quickchartButtonEl.classList.add('colab-df-quickchart-complete');\n",
              "    }\n",
              "    (() => {\n",
              "      let quickchartButtonEl =\n",
              "        document.querySelector('#df-286dc3a3-694b-4c5a-815f-adbc50ac7601 button');\n",
              "      quickchartButtonEl.style.display =\n",
              "        google.colab.kernel.accessAllowed ? 'block' : 'none';\n",
              "    })();\n",
              "  </script>\n",
              "</div>\n",
              "\n",
              "    </div>\n",
              "  </div>\n"
            ],
            "application/vnd.google.colaboratory.intrinsic+json": {
              "type": "dataframe",
              "variable_name": "df",
              "summary": "{\n  \"name\": \"df\",\n  \"rows\": 37354,\n  \"fields\": [\n    {\n      \"column\": \"Unnamed: 0\",\n      \"properties\": {\n        \"dtype\": \"number\",\n        \"std\": 10783,\n        \"min\": 0,\n        \"max\": 37353,\n        \"num_unique_values\": 37354,\n        \"samples\": [\n          35392,\n          2592,\n          27280\n        ],\n        \"semantic_type\": \"\",\n        \"description\": \"\"\n      }\n    },\n    {\n      \"column\": \"char_id\",\n      \"properties\": {\n        \"dtype\": \"number\",\n        \"std\": 24402,\n        \"min\": 2,\n        \"max\": 90580,\n        \"num_unique_values\": 37354,\n        \"samples\": [\n          88619,\n          17309,\n          80489\n        ],\n        \"semantic_type\": \"\",\n        \"description\": \"\"\n      }\n    },\n    {\n      \"column\": \"guild\",\n      \"properties\": {\n        \"dtype\": \"number\",\n        \"std\": 0,\n        \"min\": 0,\n        \"max\": 1,\n        \"num_unique_values\": 2,\n        \"samples\": [\n          0,\n          1\n        ],\n        \"semantic_type\": \"\",\n        \"description\": \"\"\n      }\n    },\n    {\n      \"column\": \"total_timestamps\",\n      \"properties\": {\n        \"dtype\": \"number\",\n        \"std\": 957,\n        \"min\": 1,\n        \"max\": 42801,\n        \"num_unique_values\": 3110,\n        \"samples\": [\n          985,\n          1377\n        ],\n        \"semantic_type\": \"\",\n        \"description\": \"\"\n      }\n    },\n    {\n      \"column\": \"unique_days\",\n      \"properties\": {\n        \"dtype\": \"number\",\n        \"std\": 44,\n        \"min\": 1,\n        \"max\": 352,\n        \"num_unique_values\": 333,\n        \"samples\": [\n          42,\n          255\n        ],\n        \"semantic_type\": \"\",\n        \"description\": \"\"\n      }\n    },\n    {\n      \"column\": \"max_level\",\n      \"properties\": {\n        \"dtype\": \"number\",\n        \"std\": 26,\n        \"min\": 1,\n        \"max\": 80,\n        \"num_unique_values\": 80,\n        \"samples\": [\n          75,\n          18\n        ],\n        \"semantic_type\": \"\",\n        \"description\": \"\"\n      }\n    },\n    {\n      \"column\": \"min_month\",\n      \"properties\": {\n        \"dtype\": \"number\",\n        \"std\": 4,\n        \"min\": 1,\n        \"max\": 12,\n        \"num_unique_values\": 12,\n        \"samples\": [\n          10,\n          3\n        ],\n        \"semantic_type\": \"\",\n        \"description\": \"\"\n      }\n    },\n    {\n      \"column\": \"max_month\",\n      \"properties\": {\n        \"dtype\": \"number\",\n        \"std\": 3,\n        \"min\": 1,\n        \"max\": 12,\n        \"num_unique_values\": 12,\n        \"samples\": [\n          1,\n          8\n        ],\n        \"semantic_type\": \"\",\n        \"description\": \"\"\n      }\n    },\n    {\n      \"column\": \"Average_Hour\",\n      \"properties\": {\n        \"dtype\": \"number\",\n        \"std\": 1.341382370341739,\n        \"min\": 0.1666666666666666,\n        \"max\": 20.265625,\n        \"num_unique_values\": 7130,\n        \"samples\": [\n          5.766666666666667,\n          2.891472868217054\n        ],\n        \"semantic_type\": \"\",\n        \"description\": \"\"\n      }\n    },\n    {\n      \"column\": \"Average_Playing_density\",\n      \"properties\": {\n        \"dtype\": \"number\",\n        \"std\": 0.15331010908804768,\n        \"min\": 0.0054644808743169,\n        \"max\": 0.9836065573770492,\n        \"num_unique_values\": 1016,\n        \"samples\": [\n          0.1352459016393442,\n          0.4496487119437939\n        ],\n        \"semantic_type\": \"\",\n        \"description\": \"\"\n      }\n    },\n    {\n      \"column\": \"Playing_after_6_months\",\n      \"properties\": {\n        \"dtype\": \"number\",\n        \"std\": 0,\n        \"min\": 0,\n        \"max\": 1,\n        \"num_unique_values\": 2,\n        \"samples\": [\n          1,\n          0\n        ],\n        \"semantic_type\": \"\",\n        \"description\": \"\"\n      }\n    }\n  ]\n}"
            }
          },
          "metadata": {},
          "execution_count": 6
        }
      ]
    },
    {
      "cell_type": "code",
      "source": [
        "df.describe(include='all').T"
      ],
      "metadata": {
        "colab": {
          "base_uri": "https://localhost:8080/",
          "height": 394
        },
        "id": "lOJT0ZPovXPx",
        "outputId": "fe9c2276-38aa-41d0-8e84-ea56c75cb94e"
      },
      "execution_count": null,
      "outputs": [
        {
          "output_type": "execute_result",
          "data": {
            "text/plain": [
              "                            count      mean       std   min       25%       50%       75%       max\n",
              "Unnamed: 0              37354.000 18676.500 10783.315 0.000  9338.250 18676.500 28014.750 37353.000\n",
              "char_id                 37354.000 63453.952 24402.572 2.000 52801.250 71877.500 81223.750 90580.000\n",
              "guild                   37354.000     0.323     0.468 0.000     0.000     0.000     1.000     1.000\n",
              "total_timestamps        37354.000   289.841   957.007 1.000     2.000     6.000    59.000 42801.000\n",
              "unique_days             37354.000    18.511    44.083 1.000     1.000     2.000    10.000   352.000\n",
              "max_level               37354.000    20.474    26.133 1.000     1.000     6.000    32.000    80.000\n",
              "min_month               37354.000     6.077     4.030 1.000     2.000     6.000    10.000    12.000\n",
              "max_month               37354.000     8.355     3.525 1.000     6.000    10.000    11.000    12.000\n",
              "Average_Hour            37354.000     1.064     1.341 0.167     0.167     0.500     1.417    20.266\n",
              "Average_Playing_density 37354.000     0.110     0.153 0.005     0.033     0.033     0.098     0.984\n",
              "Playing_after_6_months  37354.000     0.220     0.414 0.000     0.000     0.000     0.000     1.000"
            ],
            "text/html": [
              "\n",
              "  <div id=\"df-f12926cf-6f91-4b6a-a0bc-331e84441ad9\" class=\"colab-df-container\">\n",
              "    <div>\n",
              "<style scoped>\n",
              "    .dataframe tbody tr th:only-of-type {\n",
              "        vertical-align: middle;\n",
              "    }\n",
              "\n",
              "    .dataframe tbody tr th {\n",
              "        vertical-align: top;\n",
              "    }\n",
              "\n",
              "    .dataframe thead th {\n",
              "        text-align: right;\n",
              "    }\n",
              "</style>\n",
              "<table border=\"1\" class=\"dataframe\">\n",
              "  <thead>\n",
              "    <tr style=\"text-align: right;\">\n",
              "      <th></th>\n",
              "      <th>count</th>\n",
              "      <th>mean</th>\n",
              "      <th>std</th>\n",
              "      <th>min</th>\n",
              "      <th>25%</th>\n",
              "      <th>50%</th>\n",
              "      <th>75%</th>\n",
              "      <th>max</th>\n",
              "    </tr>\n",
              "  </thead>\n",
              "  <tbody>\n",
              "    <tr>\n",
              "      <th>Unnamed: 0</th>\n",
              "      <td>37354.000</td>\n",
              "      <td>18676.500</td>\n",
              "      <td>10783.315</td>\n",
              "      <td>0.000</td>\n",
              "      <td>9338.250</td>\n",
              "      <td>18676.500</td>\n",
              "      <td>28014.750</td>\n",
              "      <td>37353.000</td>\n",
              "    </tr>\n",
              "    <tr>\n",
              "      <th>char_id</th>\n",
              "      <td>37354.000</td>\n",
              "      <td>63453.952</td>\n",
              "      <td>24402.572</td>\n",
              "      <td>2.000</td>\n",
              "      <td>52801.250</td>\n",
              "      <td>71877.500</td>\n",
              "      <td>81223.750</td>\n",
              "      <td>90580.000</td>\n",
              "    </tr>\n",
              "    <tr>\n",
              "      <th>guild</th>\n",
              "      <td>37354.000</td>\n",
              "      <td>0.323</td>\n",
              "      <td>0.468</td>\n",
              "      <td>0.000</td>\n",
              "      <td>0.000</td>\n",
              "      <td>0.000</td>\n",
              "      <td>1.000</td>\n",
              "      <td>1.000</td>\n",
              "    </tr>\n",
              "    <tr>\n",
              "      <th>total_timestamps</th>\n",
              "      <td>37354.000</td>\n",
              "      <td>289.841</td>\n",
              "      <td>957.007</td>\n",
              "      <td>1.000</td>\n",
              "      <td>2.000</td>\n",
              "      <td>6.000</td>\n",
              "      <td>59.000</td>\n",
              "      <td>42801.000</td>\n",
              "    </tr>\n",
              "    <tr>\n",
              "      <th>unique_days</th>\n",
              "      <td>37354.000</td>\n",
              "      <td>18.511</td>\n",
              "      <td>44.083</td>\n",
              "      <td>1.000</td>\n",
              "      <td>1.000</td>\n",
              "      <td>2.000</td>\n",
              "      <td>10.000</td>\n",
              "      <td>352.000</td>\n",
              "    </tr>\n",
              "    <tr>\n",
              "      <th>max_level</th>\n",
              "      <td>37354.000</td>\n",
              "      <td>20.474</td>\n",
              "      <td>26.133</td>\n",
              "      <td>1.000</td>\n",
              "      <td>1.000</td>\n",
              "      <td>6.000</td>\n",
              "      <td>32.000</td>\n",
              "      <td>80.000</td>\n",
              "    </tr>\n",
              "    <tr>\n",
              "      <th>min_month</th>\n",
              "      <td>37354.000</td>\n",
              "      <td>6.077</td>\n",
              "      <td>4.030</td>\n",
              "      <td>1.000</td>\n",
              "      <td>2.000</td>\n",
              "      <td>6.000</td>\n",
              "      <td>10.000</td>\n",
              "      <td>12.000</td>\n",
              "    </tr>\n",
              "    <tr>\n",
              "      <th>max_month</th>\n",
              "      <td>37354.000</td>\n",
              "      <td>8.355</td>\n",
              "      <td>3.525</td>\n",
              "      <td>1.000</td>\n",
              "      <td>6.000</td>\n",
              "      <td>10.000</td>\n",
              "      <td>11.000</td>\n",
              "      <td>12.000</td>\n",
              "    </tr>\n",
              "    <tr>\n",
              "      <th>Average_Hour</th>\n",
              "      <td>37354.000</td>\n",
              "      <td>1.064</td>\n",
              "      <td>1.341</td>\n",
              "      <td>0.167</td>\n",
              "      <td>0.167</td>\n",
              "      <td>0.500</td>\n",
              "      <td>1.417</td>\n",
              "      <td>20.266</td>\n",
              "    </tr>\n",
              "    <tr>\n",
              "      <th>Average_Playing_density</th>\n",
              "      <td>37354.000</td>\n",
              "      <td>0.110</td>\n",
              "      <td>0.153</td>\n",
              "      <td>0.005</td>\n",
              "      <td>0.033</td>\n",
              "      <td>0.033</td>\n",
              "      <td>0.098</td>\n",
              "      <td>0.984</td>\n",
              "    </tr>\n",
              "    <tr>\n",
              "      <th>Playing_after_6_months</th>\n",
              "      <td>37354.000</td>\n",
              "      <td>0.220</td>\n",
              "      <td>0.414</td>\n",
              "      <td>0.000</td>\n",
              "      <td>0.000</td>\n",
              "      <td>0.000</td>\n",
              "      <td>0.000</td>\n",
              "      <td>1.000</td>\n",
              "    </tr>\n",
              "  </tbody>\n",
              "</table>\n",
              "</div>\n",
              "    <div class=\"colab-df-buttons\">\n",
              "\n",
              "  <div class=\"colab-df-container\">\n",
              "    <button class=\"colab-df-convert\" onclick=\"convertToInteractive('df-f12926cf-6f91-4b6a-a0bc-331e84441ad9')\"\n",
              "            title=\"Convert this dataframe to an interactive table.\"\n",
              "            style=\"display:none;\">\n",
              "\n",
              "  <svg xmlns=\"http://www.w3.org/2000/svg\" height=\"24px\" viewBox=\"0 -960 960 960\">\n",
              "    <path d=\"M120-120v-720h720v720H120Zm60-500h600v-160H180v160Zm220 220h160v-160H400v160Zm0 220h160v-160H400v160ZM180-400h160v-160H180v160Zm440 0h160v-160H620v160ZM180-180h160v-160H180v160Zm440 0h160v-160H620v160Z\"/>\n",
              "  </svg>\n",
              "    </button>\n",
              "\n",
              "  <style>\n",
              "    .colab-df-container {\n",
              "      display:flex;\n",
              "      gap: 12px;\n",
              "    }\n",
              "\n",
              "    .colab-df-convert {\n",
              "      background-color: #E8F0FE;\n",
              "      border: none;\n",
              "      border-radius: 50%;\n",
              "      cursor: pointer;\n",
              "      display: none;\n",
              "      fill: #1967D2;\n",
              "      height: 32px;\n",
              "      padding: 0 0 0 0;\n",
              "      width: 32px;\n",
              "    }\n",
              "\n",
              "    .colab-df-convert:hover {\n",
              "      background-color: #E2EBFA;\n",
              "      box-shadow: 0px 1px 2px rgba(60, 64, 67, 0.3), 0px 1px 3px 1px rgba(60, 64, 67, 0.15);\n",
              "      fill: #174EA6;\n",
              "    }\n",
              "\n",
              "    .colab-df-buttons div {\n",
              "      margin-bottom: 4px;\n",
              "    }\n",
              "\n",
              "    [theme=dark] .colab-df-convert {\n",
              "      background-color: #3B4455;\n",
              "      fill: #D2E3FC;\n",
              "    }\n",
              "\n",
              "    [theme=dark] .colab-df-convert:hover {\n",
              "      background-color: #434B5C;\n",
              "      box-shadow: 0px 1px 3px 1px rgba(0, 0, 0, 0.15);\n",
              "      filter: drop-shadow(0px 1px 2px rgba(0, 0, 0, 0.3));\n",
              "      fill: #FFFFFF;\n",
              "    }\n",
              "  </style>\n",
              "\n",
              "    <script>\n",
              "      const buttonEl =\n",
              "        document.querySelector('#df-f12926cf-6f91-4b6a-a0bc-331e84441ad9 button.colab-df-convert');\n",
              "      buttonEl.style.display =\n",
              "        google.colab.kernel.accessAllowed ? 'block' : 'none';\n",
              "\n",
              "      async function convertToInteractive(key) {\n",
              "        const element = document.querySelector('#df-f12926cf-6f91-4b6a-a0bc-331e84441ad9');\n",
              "        const dataTable =\n",
              "          await google.colab.kernel.invokeFunction('convertToInteractive',\n",
              "                                                    [key], {});\n",
              "        if (!dataTable) return;\n",
              "\n",
              "        const docLinkHtml = 'Like what you see? Visit the ' +\n",
              "          '<a target=\"_blank\" href=https://colab.research.google.com/notebooks/data_table.ipynb>data table notebook</a>'\n",
              "          + ' to learn more about interactive tables.';\n",
              "        element.innerHTML = '';\n",
              "        dataTable['output_type'] = 'display_data';\n",
              "        await google.colab.output.renderOutput(dataTable, element);\n",
              "        const docLink = document.createElement('div');\n",
              "        docLink.innerHTML = docLinkHtml;\n",
              "        element.appendChild(docLink);\n",
              "      }\n",
              "    </script>\n",
              "  </div>\n",
              "\n",
              "\n",
              "<div id=\"df-ac5a87ba-84bd-41d0-a19c-a8d507543227\">\n",
              "  <button class=\"colab-df-quickchart\" onclick=\"quickchart('df-ac5a87ba-84bd-41d0-a19c-a8d507543227')\"\n",
              "            title=\"Suggest charts\"\n",
              "            style=\"display:none;\">\n",
              "\n",
              "<svg xmlns=\"http://www.w3.org/2000/svg\" height=\"24px\"viewBox=\"0 0 24 24\"\n",
              "     width=\"24px\">\n",
              "    <g>\n",
              "        <path d=\"M19 3H5c-1.1 0-2 .9-2 2v14c0 1.1.9 2 2 2h14c1.1 0 2-.9 2-2V5c0-1.1-.9-2-2-2zM9 17H7v-7h2v7zm4 0h-2V7h2v10zm4 0h-2v-4h2v4z\"/>\n",
              "    </g>\n",
              "</svg>\n",
              "  </button>\n",
              "\n",
              "<style>\n",
              "  .colab-df-quickchart {\n",
              "      --bg-color: #E8F0FE;\n",
              "      --fill-color: #1967D2;\n",
              "      --hover-bg-color: #E2EBFA;\n",
              "      --hover-fill-color: #174EA6;\n",
              "      --disabled-fill-color: #AAA;\n",
              "      --disabled-bg-color: #DDD;\n",
              "  }\n",
              "\n",
              "  [theme=dark] .colab-df-quickchart {\n",
              "      --bg-color: #3B4455;\n",
              "      --fill-color: #D2E3FC;\n",
              "      --hover-bg-color: #434B5C;\n",
              "      --hover-fill-color: #FFFFFF;\n",
              "      --disabled-bg-color: #3B4455;\n",
              "      --disabled-fill-color: #666;\n",
              "  }\n",
              "\n",
              "  .colab-df-quickchart {\n",
              "    background-color: var(--bg-color);\n",
              "    border: none;\n",
              "    border-radius: 50%;\n",
              "    cursor: pointer;\n",
              "    display: none;\n",
              "    fill: var(--fill-color);\n",
              "    height: 32px;\n",
              "    padding: 0;\n",
              "    width: 32px;\n",
              "  }\n",
              "\n",
              "  .colab-df-quickchart:hover {\n",
              "    background-color: var(--hover-bg-color);\n",
              "    box-shadow: 0 1px 2px rgba(60, 64, 67, 0.3), 0 1px 3px 1px rgba(60, 64, 67, 0.15);\n",
              "    fill: var(--button-hover-fill-color);\n",
              "  }\n",
              "\n",
              "  .colab-df-quickchart-complete:disabled,\n",
              "  .colab-df-quickchart-complete:disabled:hover {\n",
              "    background-color: var(--disabled-bg-color);\n",
              "    fill: var(--disabled-fill-color);\n",
              "    box-shadow: none;\n",
              "  }\n",
              "\n",
              "  .colab-df-spinner {\n",
              "    border: 2px solid var(--fill-color);\n",
              "    border-color: transparent;\n",
              "    border-bottom-color: var(--fill-color);\n",
              "    animation:\n",
              "      spin 1s steps(1) infinite;\n",
              "  }\n",
              "\n",
              "  @keyframes spin {\n",
              "    0% {\n",
              "      border-color: transparent;\n",
              "      border-bottom-color: var(--fill-color);\n",
              "      border-left-color: var(--fill-color);\n",
              "    }\n",
              "    20% {\n",
              "      border-color: transparent;\n",
              "      border-left-color: var(--fill-color);\n",
              "      border-top-color: var(--fill-color);\n",
              "    }\n",
              "    30% {\n",
              "      border-color: transparent;\n",
              "      border-left-color: var(--fill-color);\n",
              "      border-top-color: var(--fill-color);\n",
              "      border-right-color: var(--fill-color);\n",
              "    }\n",
              "    40% {\n",
              "      border-color: transparent;\n",
              "      border-right-color: var(--fill-color);\n",
              "      border-top-color: var(--fill-color);\n",
              "    }\n",
              "    60% {\n",
              "      border-color: transparent;\n",
              "      border-right-color: var(--fill-color);\n",
              "    }\n",
              "    80% {\n",
              "      border-color: transparent;\n",
              "      border-right-color: var(--fill-color);\n",
              "      border-bottom-color: var(--fill-color);\n",
              "    }\n",
              "    90% {\n",
              "      border-color: transparent;\n",
              "      border-bottom-color: var(--fill-color);\n",
              "    }\n",
              "  }\n",
              "</style>\n",
              "\n",
              "  <script>\n",
              "    async function quickchart(key) {\n",
              "      const quickchartButtonEl =\n",
              "        document.querySelector('#' + key + ' button');\n",
              "      quickchartButtonEl.disabled = true;  // To prevent multiple clicks.\n",
              "      quickchartButtonEl.classList.add('colab-df-spinner');\n",
              "      try {\n",
              "        const charts = await google.colab.kernel.invokeFunction(\n",
              "            'suggestCharts', [key], {});\n",
              "      } catch (error) {\n",
              "        console.error('Error during call to suggestCharts:', error);\n",
              "      }\n",
              "      quickchartButtonEl.classList.remove('colab-df-spinner');\n",
              "      quickchartButtonEl.classList.add('colab-df-quickchart-complete');\n",
              "    }\n",
              "    (() => {\n",
              "      let quickchartButtonEl =\n",
              "        document.querySelector('#df-ac5a87ba-84bd-41d0-a19c-a8d507543227 button');\n",
              "      quickchartButtonEl.style.display =\n",
              "        google.colab.kernel.accessAllowed ? 'block' : 'none';\n",
              "    })();\n",
              "  </script>\n",
              "</div>\n",
              "\n",
              "    </div>\n",
              "  </div>\n"
            ],
            "application/vnd.google.colaboratory.intrinsic+json": {
              "type": "dataframe",
              "summary": "{\n  \"name\": \"df\",\n  \"rows\": 11,\n  \"fields\": [\n    {\n      \"column\": \"count\",\n      \"properties\": {\n        \"dtype\": \"number\",\n        \"std\": 0.0,\n        \"min\": 37354.0,\n        \"max\": 37354.0,\n        \"num_unique_values\": 1,\n        \"samples\": [\n          37354.0\n        ],\n        \"semantic_type\": \"\",\n        \"description\": \"\"\n      }\n    },\n    {\n      \"column\": \"mean\",\n      \"properties\": {\n        \"dtype\": \"number\",\n        \"std\": 19382.7734809742,\n        \"min\": 0.11024394415263958,\n        \"max\": 63453.951946244044,\n        \"num_unique_values\": 11,\n        \"samples\": [\n          20.4743534828934\n        ],\n        \"semantic_type\": \"\",\n        \"description\": \"\"\n      }\n    },\n    {\n      \"column\": \"std\",\n      \"properties\": {\n        \"dtype\": \"number\",\n        \"std\": 7703.254531144813,\n        \"min\": 0.15331010908804768,\n        \"max\": 24402.571829583165,\n        \"num_unique_values\": 11,\n        \"samples\": [\n          26.13327344406705\n        ],\n        \"semantic_type\": \"\",\n        \"description\": \"\"\n      }\n    },\n    {\n      \"column\": \"min\",\n      \"properties\": {\n        \"dtype\": \"number\",\n        \"std\": 0.6596584434669168,\n        \"min\": 0.0,\n        \"max\": 2.0,\n        \"num_unique_values\": 5,\n        \"samples\": [\n          2.0\n        ],\n        \"semantic_type\": \"\",\n        \"description\": \"\"\n      }\n    },\n    {\n      \"column\": \"25%\",\n      \"properties\": {\n        \"dtype\": \"number\",\n        \"std\": 15887.127671691183,\n        \"min\": 0.0,\n        \"max\": 52801.25,\n        \"num_unique_values\": 8,\n        \"samples\": [\n          52801.25\n        ],\n        \"semantic_type\": \"\",\n        \"description\": \"\"\n      }\n    },\n    {\n      \"column\": \"50%\",\n      \"properties\": {\n        \"dtype\": \"number\",\n        \"std\": 21838.560141939834,\n        \"min\": 0.0,\n        \"max\": 71877.5,\n        \"num_unique_values\": 8,\n        \"samples\": [\n          71877.5\n        ],\n        \"semantic_type\": \"\",\n        \"description\": \"\"\n      }\n    },\n    {\n      \"column\": \"75%\",\n      \"properties\": {\n        \"dtype\": \"number\",\n        \"std\": 25089.502633062853,\n        \"min\": 0.0,\n        \"max\": 81223.75,\n        \"num_unique_values\": 10,\n        \"samples\": [\n          0.0983606557377049\n        ],\n        \"semantic_type\": \"\",\n        \"description\": \"\"\n      }\n    },\n    {\n      \"column\": \"max\",\n      \"properties\": {\n        \"dtype\": \"number\",\n        \"std\": 29609.344203825258,\n        \"min\": 0.9836065573770492,\n        \"max\": 90580.0,\n        \"num_unique_values\": 9,\n        \"samples\": [\n          20.265625\n        ],\n        \"semantic_type\": \"\",\n        \"description\": \"\"\n      }\n    }\n  ]\n}"
            }
          },
          "metadata": {},
          "execution_count": 5
        }
      ]
    },
    {
      "cell_type": "markdown",
      "source": [
        "Based on the observations from this table, we can conclude that there is a significant variation in the values of the total_timestamps column. This high level of variability suggests the presence of extreme values or outliers that could negatively impact the accuracy and reliability of our analysis. To ensure a more balanced and representative dataset, it is essential to apply appropriate outlier detection and suppression techniques. By handling these anomalies effectively, we can improve the quality of our data and enhance the performance of our predictive models."
      ],
      "metadata": {
        "id": "iP777eh5343X"
      }
    },
    {
      "cell_type": "code",
      "source": [
        "df.info() #some values like 'guild' can be changen into categorical value."
      ],
      "metadata": {
        "colab": {
          "base_uri": "https://localhost:8080/"
        },
        "id": "Hm89TR0Y3iKL",
        "outputId": "d575aced-cd8e-47c1-e23a-809b5139d8d2"
      },
      "execution_count": null,
      "outputs": [
        {
          "output_type": "stream",
          "name": "stdout",
          "text": [
            "<class 'pandas.core.frame.DataFrame'>\n",
            "RangeIndex: 37354 entries, 0 to 37353\n",
            "Data columns (total 11 columns):\n",
            " #   Column                   Non-Null Count  Dtype  \n",
            "---  ------                   --------------  -----  \n",
            " 0   Unnamed: 0               37354 non-null  int64  \n",
            " 1   char_id                  37354 non-null  int64  \n",
            " 2   guild                    37354 non-null  int64  \n",
            " 3   total_timestamps         37354 non-null  int64  \n",
            " 4   unique_days              37354 non-null  int64  \n",
            " 5   max_level                37354 non-null  int64  \n",
            " 6   min_month                37354 non-null  int64  \n",
            " 7   max_month                37354 non-null  int64  \n",
            " 8   Average_Hour             37354 non-null  float64\n",
            " 9   Average_Playing_density  37354 non-null  float64\n",
            " 10  Playing_after_6_months   37354 non-null  int64  \n",
            "dtypes: float64(2), int64(9)\n",
            "memory usage: 3.1 MB\n"
          ]
        }
      ]
    },
    {
      "cell_type": "code",
      "source": [
        "df.shape"
      ],
      "metadata": {
        "colab": {
          "base_uri": "https://localhost:8080/"
        },
        "id": "aRHs_XJN6PSW",
        "outputId": "f6a88a8e-2614-477b-9465-6c1bf6e9faa8"
      },
      "execution_count": null,
      "outputs": [
        {
          "output_type": "execute_result",
          "data": {
            "text/plain": [
              "(37354, 11)"
            ]
          },
          "metadata": {},
          "execution_count": 25
        }
      ]
    },
    {
      "cell_type": "code",
      "source": [
        "df.isna().sum() #There is no null value"
      ],
      "metadata": {
        "colab": {
          "base_uri": "https://localhost:8080/",
          "height": 429
        },
        "id": "kXt3Hg2a8lF1",
        "outputId": "1ee529d6-377e-47de-eb6d-9959f2fe717b"
      },
      "execution_count": null,
      "outputs": [
        {
          "output_type": "execute_result",
          "data": {
            "text/plain": [
              "Unnamed: 0                 0\n",
              "char_id                    0\n",
              "guild                      0\n",
              "total_timestamps           0\n",
              "unique_days                0\n",
              "max_level                  0\n",
              "min_month                  0\n",
              "max_month                  0\n",
              "Average_Hour               0\n",
              "Average_Playing_density    0\n",
              "Playing_after_6_months     0\n",
              "dtype: int64"
            ],
            "text/html": [
              "<div>\n",
              "<style scoped>\n",
              "    .dataframe tbody tr th:only-of-type {\n",
              "        vertical-align: middle;\n",
              "    }\n",
              "\n",
              "    .dataframe tbody tr th {\n",
              "        vertical-align: top;\n",
              "    }\n",
              "\n",
              "    .dataframe thead th {\n",
              "        text-align: right;\n",
              "    }\n",
              "</style>\n",
              "<table border=\"1\" class=\"dataframe\">\n",
              "  <thead>\n",
              "    <tr style=\"text-align: right;\">\n",
              "      <th></th>\n",
              "      <th>0</th>\n",
              "    </tr>\n",
              "  </thead>\n",
              "  <tbody>\n",
              "    <tr>\n",
              "      <th>Unnamed: 0</th>\n",
              "      <td>0</td>\n",
              "    </tr>\n",
              "    <tr>\n",
              "      <th>char_id</th>\n",
              "      <td>0</td>\n",
              "    </tr>\n",
              "    <tr>\n",
              "      <th>guild</th>\n",
              "      <td>0</td>\n",
              "    </tr>\n",
              "    <tr>\n",
              "      <th>total_timestamps</th>\n",
              "      <td>0</td>\n",
              "    </tr>\n",
              "    <tr>\n",
              "      <th>unique_days</th>\n",
              "      <td>0</td>\n",
              "    </tr>\n",
              "    <tr>\n",
              "      <th>max_level</th>\n",
              "      <td>0</td>\n",
              "    </tr>\n",
              "    <tr>\n",
              "      <th>min_month</th>\n",
              "      <td>0</td>\n",
              "    </tr>\n",
              "    <tr>\n",
              "      <th>max_month</th>\n",
              "      <td>0</td>\n",
              "    </tr>\n",
              "    <tr>\n",
              "      <th>Average_Hour</th>\n",
              "      <td>0</td>\n",
              "    </tr>\n",
              "    <tr>\n",
              "      <th>Average_Playing_density</th>\n",
              "      <td>0</td>\n",
              "    </tr>\n",
              "    <tr>\n",
              "      <th>Playing_after_6_months</th>\n",
              "      <td>0</td>\n",
              "    </tr>\n",
              "  </tbody>\n",
              "</table>\n",
              "</div><br><label><b>dtype:</b> int64</label>"
            ]
          },
          "metadata": {},
          "execution_count": 26
        }
      ]
    },
    {
      "cell_type": "code",
      "source": [
        "df.duplicated().values.any() #There is no Dublicated values"
      ],
      "metadata": {
        "colab": {
          "base_uri": "https://localhost:8080/"
        },
        "id": "auaUKJJU_TNe",
        "outputId": "2d7f8d66-11f0-4260-9ef8-8ff28e96860e"
      },
      "execution_count": null,
      "outputs": [
        {
          "output_type": "execute_result",
          "data": {
            "text/plain": [
              "False"
            ]
          },
          "metadata": {},
          "execution_count": 33
        }
      ]
    },
    {
      "cell_type": "markdown",
      "source": [
        "# What is the meaning of these column names?"
      ],
      "metadata": {
        "id": "DpJxeRVEyaLi"
      }
    },
    {
      "cell_type": "markdown",
      "source": [
        "After thoroughly checking the dataset for inconsistencies and ensuring data quality, I conducted a detailed analysis of each column to understand its significance, distribution, and potential impact on player churn. This involved examining column names, data types, unique values, and their relationships with other features. Based on this comprehensive review, I created a structured data dictionary, which serves as a reference document outlining the meaning, type, and description of each variable. This step was crucial for maintaining clarity, facilitating better data interpretation, and ensuring consistency throughout the projec"
      ],
      "metadata": {
        "id": "nHxkCNkh2X59"
      }
    },
    {
      "cell_type": "markdown",
      "source": [
        "Unnamed 0 : Table ID\n",
        "\n",
        "Char id : User ID\n",
        "\n",
        "guild : if user joined any group then its 1 else 0\n",
        "\n",
        "total_time_stamps : Total Game Sessions\n",
        "\n",
        "unique_days : It shows how many days users play game without considering sessions\n",
        "\n",
        "max_level : Users max reached level\n",
        "\n",
        "min_month : Users min month\n",
        "\n",
        "max_month : Users max month\n",
        "\n",
        "Average_Hour: Users' average hour playing game\n",
        "\n",
        "Average_playing_density: user' playing density\n",
        "\n",
        "Playing_after_6_months: if user still play after 6 monthsthen 1 else 0\n"
      ],
      "metadata": {
        "id": "AJLTA-AR0mIx"
      }
    },
    {
      "cell_type": "code",
      "source": [
        "guild = df['guild'].value_counts().reset_index()\n",
        "guild"
      ],
      "metadata": {
        "colab": {
          "base_uri": "https://localhost:8080/",
          "height": 125
        },
        "id": "xbsO97I-z_VE",
        "outputId": "a730eec1-0ef6-48f0-d160-079348fce92e"
      },
      "execution_count": null,
      "outputs": [
        {
          "output_type": "execute_result",
          "data": {
            "text/plain": [
              "   guild  count\n",
              "0      0  25284\n",
              "1      1  12070"
            ],
            "text/html": [
              "\n",
              "  <div id=\"df-baf195aa-8579-4083-beed-0d7a069f5f76\" class=\"colab-df-container\">\n",
              "    <div>\n",
              "<style scoped>\n",
              "    .dataframe tbody tr th:only-of-type {\n",
              "        vertical-align: middle;\n",
              "    }\n",
              "\n",
              "    .dataframe tbody tr th {\n",
              "        vertical-align: top;\n",
              "    }\n",
              "\n",
              "    .dataframe thead th {\n",
              "        text-align: right;\n",
              "    }\n",
              "</style>\n",
              "<table border=\"1\" class=\"dataframe\">\n",
              "  <thead>\n",
              "    <tr style=\"text-align: right;\">\n",
              "      <th></th>\n",
              "      <th>guild</th>\n",
              "      <th>count</th>\n",
              "    </tr>\n",
              "  </thead>\n",
              "  <tbody>\n",
              "    <tr>\n",
              "      <th>0</th>\n",
              "      <td>0</td>\n",
              "      <td>25284</td>\n",
              "    </tr>\n",
              "    <tr>\n",
              "      <th>1</th>\n",
              "      <td>1</td>\n",
              "      <td>12070</td>\n",
              "    </tr>\n",
              "  </tbody>\n",
              "</table>\n",
              "</div>\n",
              "    <div class=\"colab-df-buttons\">\n",
              "\n",
              "  <div class=\"colab-df-container\">\n",
              "    <button class=\"colab-df-convert\" onclick=\"convertToInteractive('df-baf195aa-8579-4083-beed-0d7a069f5f76')\"\n",
              "            title=\"Convert this dataframe to an interactive table.\"\n",
              "            style=\"display:none;\">\n",
              "\n",
              "  <svg xmlns=\"http://www.w3.org/2000/svg\" height=\"24px\" viewBox=\"0 -960 960 960\">\n",
              "    <path d=\"M120-120v-720h720v720H120Zm60-500h600v-160H180v160Zm220 220h160v-160H400v160Zm0 220h160v-160H400v160ZM180-400h160v-160H180v160Zm440 0h160v-160H620v160ZM180-180h160v-160H180v160Zm440 0h160v-160H620v160Z\"/>\n",
              "  </svg>\n",
              "    </button>\n",
              "\n",
              "  <style>\n",
              "    .colab-df-container {\n",
              "      display:flex;\n",
              "      gap: 12px;\n",
              "    }\n",
              "\n",
              "    .colab-df-convert {\n",
              "      background-color: #E8F0FE;\n",
              "      border: none;\n",
              "      border-radius: 50%;\n",
              "      cursor: pointer;\n",
              "      display: none;\n",
              "      fill: #1967D2;\n",
              "      height: 32px;\n",
              "      padding: 0 0 0 0;\n",
              "      width: 32px;\n",
              "    }\n",
              "\n",
              "    .colab-df-convert:hover {\n",
              "      background-color: #E2EBFA;\n",
              "      box-shadow: 0px 1px 2px rgba(60, 64, 67, 0.3), 0px 1px 3px 1px rgba(60, 64, 67, 0.15);\n",
              "      fill: #174EA6;\n",
              "    }\n",
              "\n",
              "    .colab-df-buttons div {\n",
              "      margin-bottom: 4px;\n",
              "    }\n",
              "\n",
              "    [theme=dark] .colab-df-convert {\n",
              "      background-color: #3B4455;\n",
              "      fill: #D2E3FC;\n",
              "    }\n",
              "\n",
              "    [theme=dark] .colab-df-convert:hover {\n",
              "      background-color: #434B5C;\n",
              "      box-shadow: 0px 1px 3px 1px rgba(0, 0, 0, 0.15);\n",
              "      filter: drop-shadow(0px 1px 2px rgba(0, 0, 0, 0.3));\n",
              "      fill: #FFFFFF;\n",
              "    }\n",
              "  </style>\n",
              "\n",
              "    <script>\n",
              "      const buttonEl =\n",
              "        document.querySelector('#df-baf195aa-8579-4083-beed-0d7a069f5f76 button.colab-df-convert');\n",
              "      buttonEl.style.display =\n",
              "        google.colab.kernel.accessAllowed ? 'block' : 'none';\n",
              "\n",
              "      async function convertToInteractive(key) {\n",
              "        const element = document.querySelector('#df-baf195aa-8579-4083-beed-0d7a069f5f76');\n",
              "        const dataTable =\n",
              "          await google.colab.kernel.invokeFunction('convertToInteractive',\n",
              "                                                    [key], {});\n",
              "        if (!dataTable) return;\n",
              "\n",
              "        const docLinkHtml = 'Like what you see? Visit the ' +\n",
              "          '<a target=\"_blank\" href=https://colab.research.google.com/notebooks/data_table.ipynb>data table notebook</a>'\n",
              "          + ' to learn more about interactive tables.';\n",
              "        element.innerHTML = '';\n",
              "        dataTable['output_type'] = 'display_data';\n",
              "        await google.colab.output.renderOutput(dataTable, element);\n",
              "        const docLink = document.createElement('div');\n",
              "        docLink.innerHTML = docLinkHtml;\n",
              "        element.appendChild(docLink);\n",
              "      }\n",
              "    </script>\n",
              "  </div>\n",
              "\n",
              "\n",
              "<div id=\"df-a369df69-fbdb-46fc-a615-b4399c07a05a\">\n",
              "  <button class=\"colab-df-quickchart\" onclick=\"quickchart('df-a369df69-fbdb-46fc-a615-b4399c07a05a')\"\n",
              "            title=\"Suggest charts\"\n",
              "            style=\"display:none;\">\n",
              "\n",
              "<svg xmlns=\"http://www.w3.org/2000/svg\" height=\"24px\"viewBox=\"0 0 24 24\"\n",
              "     width=\"24px\">\n",
              "    <g>\n",
              "        <path d=\"M19 3H5c-1.1 0-2 .9-2 2v14c0 1.1.9 2 2 2h14c1.1 0 2-.9 2-2V5c0-1.1-.9-2-2-2zM9 17H7v-7h2v7zm4 0h-2V7h2v10zm4 0h-2v-4h2v4z\"/>\n",
              "    </g>\n",
              "</svg>\n",
              "  </button>\n",
              "\n",
              "<style>\n",
              "  .colab-df-quickchart {\n",
              "      --bg-color: #E8F0FE;\n",
              "      --fill-color: #1967D2;\n",
              "      --hover-bg-color: #E2EBFA;\n",
              "      --hover-fill-color: #174EA6;\n",
              "      --disabled-fill-color: #AAA;\n",
              "      --disabled-bg-color: #DDD;\n",
              "  }\n",
              "\n",
              "  [theme=dark] .colab-df-quickchart {\n",
              "      --bg-color: #3B4455;\n",
              "      --fill-color: #D2E3FC;\n",
              "      --hover-bg-color: #434B5C;\n",
              "      --hover-fill-color: #FFFFFF;\n",
              "      --disabled-bg-color: #3B4455;\n",
              "      --disabled-fill-color: #666;\n",
              "  }\n",
              "\n",
              "  .colab-df-quickchart {\n",
              "    background-color: var(--bg-color);\n",
              "    border: none;\n",
              "    border-radius: 50%;\n",
              "    cursor: pointer;\n",
              "    display: none;\n",
              "    fill: var(--fill-color);\n",
              "    height: 32px;\n",
              "    padding: 0;\n",
              "    width: 32px;\n",
              "  }\n",
              "\n",
              "  .colab-df-quickchart:hover {\n",
              "    background-color: var(--hover-bg-color);\n",
              "    box-shadow: 0 1px 2px rgba(60, 64, 67, 0.3), 0 1px 3px 1px rgba(60, 64, 67, 0.15);\n",
              "    fill: var(--button-hover-fill-color);\n",
              "  }\n",
              "\n",
              "  .colab-df-quickchart-complete:disabled,\n",
              "  .colab-df-quickchart-complete:disabled:hover {\n",
              "    background-color: var(--disabled-bg-color);\n",
              "    fill: var(--disabled-fill-color);\n",
              "    box-shadow: none;\n",
              "  }\n",
              "\n",
              "  .colab-df-spinner {\n",
              "    border: 2px solid var(--fill-color);\n",
              "    border-color: transparent;\n",
              "    border-bottom-color: var(--fill-color);\n",
              "    animation:\n",
              "      spin 1s steps(1) infinite;\n",
              "  }\n",
              "\n",
              "  @keyframes spin {\n",
              "    0% {\n",
              "      border-color: transparent;\n",
              "      border-bottom-color: var(--fill-color);\n",
              "      border-left-color: var(--fill-color);\n",
              "    }\n",
              "    20% {\n",
              "      border-color: transparent;\n",
              "      border-left-color: var(--fill-color);\n",
              "      border-top-color: var(--fill-color);\n",
              "    }\n",
              "    30% {\n",
              "      border-color: transparent;\n",
              "      border-left-color: var(--fill-color);\n",
              "      border-top-color: var(--fill-color);\n",
              "      border-right-color: var(--fill-color);\n",
              "    }\n",
              "    40% {\n",
              "      border-color: transparent;\n",
              "      border-right-color: var(--fill-color);\n",
              "      border-top-color: var(--fill-color);\n",
              "    }\n",
              "    60% {\n",
              "      border-color: transparent;\n",
              "      border-right-color: var(--fill-color);\n",
              "    }\n",
              "    80% {\n",
              "      border-color: transparent;\n",
              "      border-right-color: var(--fill-color);\n",
              "      border-bottom-color: var(--fill-color);\n",
              "    }\n",
              "    90% {\n",
              "      border-color: transparent;\n",
              "      border-bottom-color: var(--fill-color);\n",
              "    }\n",
              "  }\n",
              "</style>\n",
              "\n",
              "  <script>\n",
              "    async function quickchart(key) {\n",
              "      const quickchartButtonEl =\n",
              "        document.querySelector('#' + key + ' button');\n",
              "      quickchartButtonEl.disabled = true;  // To prevent multiple clicks.\n",
              "      quickchartButtonEl.classList.add('colab-df-spinner');\n",
              "      try {\n",
              "        const charts = await google.colab.kernel.invokeFunction(\n",
              "            'suggestCharts', [key], {});\n",
              "      } catch (error) {\n",
              "        console.error('Error during call to suggestCharts:', error);\n",
              "      }\n",
              "      quickchartButtonEl.classList.remove('colab-df-spinner');\n",
              "      quickchartButtonEl.classList.add('colab-df-quickchart-complete');\n",
              "    }\n",
              "    (() => {\n",
              "      let quickchartButtonEl =\n",
              "        document.querySelector('#df-a369df69-fbdb-46fc-a615-b4399c07a05a button');\n",
              "      quickchartButtonEl.style.display =\n",
              "        google.colab.kernel.accessAllowed ? 'block' : 'none';\n",
              "    })();\n",
              "  </script>\n",
              "</div>\n",
              "\n",
              "  <div id=\"id_1a1ea02a-fd7c-4000-907e-97282d7ab56f\">\n",
              "    <style>\n",
              "      .colab-df-generate {\n",
              "        background-color: #E8F0FE;\n",
              "        border: none;\n",
              "        border-radius: 50%;\n",
              "        cursor: pointer;\n",
              "        display: none;\n",
              "        fill: #1967D2;\n",
              "        height: 32px;\n",
              "        padding: 0 0 0 0;\n",
              "        width: 32px;\n",
              "      }\n",
              "\n",
              "      .colab-df-generate:hover {\n",
              "        background-color: #E2EBFA;\n",
              "        box-shadow: 0px 1px 2px rgba(60, 64, 67, 0.3), 0px 1px 3px 1px rgba(60, 64, 67, 0.15);\n",
              "        fill: #174EA6;\n",
              "      }\n",
              "\n",
              "      [theme=dark] .colab-df-generate {\n",
              "        background-color: #3B4455;\n",
              "        fill: #D2E3FC;\n",
              "      }\n",
              "\n",
              "      [theme=dark] .colab-df-generate:hover {\n",
              "        background-color: #434B5C;\n",
              "        box-shadow: 0px 1px 3px 1px rgba(0, 0, 0, 0.15);\n",
              "        filter: drop-shadow(0px 1px 2px rgba(0, 0, 0, 0.3));\n",
              "        fill: #FFFFFF;\n",
              "      }\n",
              "    </style>\n",
              "    <button class=\"colab-df-generate\" onclick=\"generateWithVariable('guild')\"\n",
              "            title=\"Generate code using this dataframe.\"\n",
              "            style=\"display:none;\">\n",
              "\n",
              "  <svg xmlns=\"http://www.w3.org/2000/svg\" height=\"24px\"viewBox=\"0 0 24 24\"\n",
              "       width=\"24px\">\n",
              "    <path d=\"M7,19H8.4L18.45,9,17,7.55,7,17.6ZM5,21V16.75L18.45,3.32a2,2,0,0,1,2.83,0l1.4,1.43a1.91,1.91,0,0,1,.58,1.4,1.91,1.91,0,0,1-.58,1.4L9.25,21ZM18.45,9,17,7.55Zm-12,3A5.31,5.31,0,0,0,4.9,8.1,5.31,5.31,0,0,0,1,6.5,5.31,5.31,0,0,0,4.9,4.9,5.31,5.31,0,0,0,6.5,1,5.31,5.31,0,0,0,8.1,4.9,5.31,5.31,0,0,0,12,6.5,5.46,5.46,0,0,0,6.5,12Z\"/>\n",
              "  </svg>\n",
              "    </button>\n",
              "    <script>\n",
              "      (() => {\n",
              "      const buttonEl =\n",
              "        document.querySelector('#id_1a1ea02a-fd7c-4000-907e-97282d7ab56f button.colab-df-generate');\n",
              "      buttonEl.style.display =\n",
              "        google.colab.kernel.accessAllowed ? 'block' : 'none';\n",
              "\n",
              "      buttonEl.onclick = () => {\n",
              "        google.colab.notebook.generateWithVariable('guild');\n",
              "      }\n",
              "      })();\n",
              "    </script>\n",
              "  </div>\n",
              "\n",
              "    </div>\n",
              "  </div>\n"
            ],
            "application/vnd.google.colaboratory.intrinsic+json": {
              "type": "dataframe",
              "variable_name": "guild",
              "summary": "{\n  \"name\": \"guild\",\n  \"rows\": 2,\n  \"fields\": [\n    {\n      \"column\": \"guild\",\n      \"properties\": {\n        \"dtype\": \"number\",\n        \"std\": 0,\n        \"min\": 0,\n        \"max\": 1,\n        \"num_unique_values\": 2,\n        \"samples\": [\n          1,\n          0\n        ],\n        \"semantic_type\": \"\",\n        \"description\": \"\"\n      }\n    },\n    {\n      \"column\": \"count\",\n      \"properties\": {\n        \"dtype\": \"number\",\n        \"std\": 9343,\n        \"min\": 12070,\n        \"max\": 25284,\n        \"num_unique_values\": 2,\n        \"samples\": [\n          12070,\n          25284\n        ],\n        \"semantic_type\": \"\",\n        \"description\": \"\"\n      }\n    }\n  ]\n}"
            }
          },
          "metadata": {},
          "execution_count": 19
        }
      ]
    },
    {
      "cell_type": "code",
      "source": [
        "sns.barplot(data=guild, x='guild', y='count')"
      ],
      "metadata": {
        "colab": {
          "base_uri": "https://localhost:8080/",
          "height": 467
        },
        "id": "PhKPJzMtyj0i",
        "outputId": "1f49c8f8-9f48-45fd-d3f8-7c2f00208324"
      },
      "execution_count": null,
      "outputs": [
        {
          "output_type": "execute_result",
          "data": {
            "text/plain": [
              "<Axes: xlabel='guild', ylabel='count'>"
            ]
          },
          "metadata": {},
          "execution_count": 20
        },
        {
          "output_type": "display_data",
          "data": {
            "text/plain": [
              "<Figure size 640x480 with 1 Axes>"
            ],
            "image/png": "[encoded data removed]"
          },
          "metadata": {}
        }
      ]
    },
    {
      "cell_type": "markdown",
      "source": [
        "The dataset exhibits a slight imbalance in terms of guild distribution, meaning that some guilds have significantly more players than others. While this imbalance is not extreme, it may still impact certain analyses or predictive models, particularly if guild membership plays a crucial role in player behavior. Addressing this imbalance through techniques such as resampling or weighting may help ensure more reliable and unbiased insights."
      ],
      "metadata": {
        "id": "SxovOhqG5IlH"
      }
    },
    {
      "cell_type": "code",
      "source": [
        "plt.figure(figsize=(10, 6))\n",
        "sns.histplot(df['total_timestamps'], bins=20, kde=True)\n",
        "plt.xlabel('Total Timestamps')\n",
        "plt.ylabel('Frequency')\n",
        "plt.title('Distribution of Total Timestamps')\n",
        "plt.show()"
      ],
      "metadata": {
        "colab": {
          "base_uri": "https://localhost:8080/",
          "height": 564
        },
        "id": "QvTOg31X9ONK",
        "outputId": "707e6e03-5f0b-4fa6-bc23-6d1035acf6c0"
      },
      "execution_count": null,
      "outputs": [
        {
          "output_type": "display_data",
          "data": {
            "text/plain": [
              "<Figure size 1000x600 with 1 Axes>"
            ],
            "image/png": "[encoded data removed]"
          },
          "metadata": {}
        }
      ]
    },
    {
      "cell_type": "code",
      "source": [
        "sns.boxplot(x=df['total_timestamps'])"
      ],
      "metadata": {
        "colab": {
          "base_uri": "https://localhost:8080/",
          "height": 468
        },
        "id": "LD-PLqzAxurC",
        "outputId": "bcce7447-0574-4dc3-eac7-1118b2066e80"
      },
      "execution_count": null,
      "outputs": [
        {
          "output_type": "execute_result",
          "data": {
            "text/plain": [
              "<Axes: xlabel='total_timestamps'>"
            ]
          },
          "metadata": {},
          "execution_count": 29
        },
        {
          "output_type": "display_data",
          "data": {
            "text/plain": [
              "<Figure size 640x480 with 1 Axes>"
            ],
            "image/png": "[encoded data removed]"
          },
          "metadata": {}
        }
      ]
    },
    {
      "cell_type": "markdown",
      "source": [
        "The **total_timestamps** column contains a significant number of outliers, which could potentially introduce bias and negatively affect the performance of our machine learning model. These extreme values may distort statistical summaries, influence model predictions, and lead to inaccurate generalizations. To mitigate these issues, it is essential to apply appropriate outlier detection and handling techniques, such as transformation, trimming, or robust scaling, to ensure a more reliable and well-balanced dataset for model training and evaluation."
      ],
      "metadata": {
        "id": "OdvbNR2u-AXh"
      }
    },
    {
      "cell_type": "code",
      "source": [
        "plt.figure(figsize=(10, 6))\n",
        "sns.histplot(df['unique_days'], bins=20, kde=True)\n",
        "plt.xlabel('Unique Days')\n",
        "plt.ylabel('Frequency')\n",
        "plt.title('Distribution of Unique Days')\n",
        "plt.show()"
      ],
      "metadata": {
        "colab": {
          "base_uri": "https://localhost:8080/",
          "height": 564
        },
        "id": "SA2ypEzu9LCI",
        "outputId": "9aec1c9f-ca9b-48a1-f724-745c48ae86df"
      },
      "execution_count": null,
      "outputs": [
        {
          "output_type": "display_data",
          "data": {
            "text/plain": [
              "<Figure size 1000x600 with 1 Axes>"
            ],
            "image/png": "[encoded data removed]"
          },
          "metadata": {}
        }
      ]
    },
    {
      "cell_type": "code",
      "source": [
        "sns.boxplot(x=df['unique_days'])"
      ],
      "metadata": {
        "colab": {
          "base_uri": "https://localhost:8080/",
          "height": 468
        },
        "id": "t29BjtIC9gxR",
        "outputId": "f6f90668-4c68-4d8d-d759-74e1e40f1dd8"
      },
      "execution_count": null,
      "outputs": [
        {
          "output_type": "execute_result",
          "data": {
            "text/plain": [
              "<Axes: xlabel='unique_days'>"
            ]
          },
          "metadata": {},
          "execution_count": 32
        },
        {
          "output_type": "display_data",
          "data": {
            "text/plain": [
              "<Figure size 640x480 with 1 Axes>"
            ],
            "image/png": "[encoded data removed]"
          },
          "metadata": {}
        }
      ]
    },
    {
      "cell_type": "markdown",
      "source": [
        "The majority of the data points fall within the range of 0 to 150 unique days, indicating that most players are active within this timeframe. This distribution suggests that while some players may have significantly longer engagement periods, the core player base tends to remain within this range. Understanding this pattern is crucial for analyzing player retention, engagement trends, and potential churn behavior, as well as for making informed decisions when preprocessing the data for machine learning models."
      ],
      "metadata": {
        "id": "TyrwbwNv-kzC"
      }
    },
    {
      "cell_type": "code",
      "source": [
        "plt.figure(figsize=(10, 6))\n",
        "sns.histplot(df['max_level'], bins=20, kde=True)\n",
        "plt.xlabel('Max Level')\n",
        "plt.ylabel('Frequency')\n",
        "plt.title('Distribution of Max Level')\n",
        "plt.show()"
      ],
      "metadata": {
        "colab": {
          "base_uri": "https://localhost:8080/",
          "height": 564
        },
        "id": "iCs9CMWo9x1a",
        "outputId": "0026bca7-b2a1-4107-c5c4-f5f1de3aa165"
      },
      "execution_count": null,
      "outputs": [
        {
          "output_type": "display_data",
          "data": {
            "text/plain": [
              "<Figure size 1000x600 with 1 Axes>"
            ],
            "image/png": "[encoded data removed]"
          },
          "metadata": {}
        }
      ]
    },
    {
      "cell_type": "code",
      "source": [
        "sns.boxplot(x=df['max_level'])"
      ],
      "metadata": {
        "colab": {
          "base_uri": "https://localhost:8080/",
          "height": 468
        },
        "id": "vbXH43o3_jsr",
        "outputId": "c6fc727d-9be7-4002-832d-8348744906eb"
      },
      "execution_count": null,
      "outputs": [
        {
          "output_type": "execute_result",
          "data": {
            "text/plain": [
              "<Axes: xlabel='max_level'>"
            ]
          },
          "metadata": {},
          "execution_count": 35
        },
        {
          "output_type": "display_data",
          "data": {
            "text/plain": [
              "<Figure size 640x480 with 1 Axes>"
            ],
            "image/png": "[encoded data removed]"
          },
          "metadata": {}
        }
      ]
    },
    {
      "cell_type": "markdown",
      "source": [
        "The max_level column contains relatively fewer outliers, with most players reaching levels between 0 and 40. This suggests that a significant portion of gamers may struggle to progress beyond the early stages of the game. Possible reasons for this could include challenges in mastering game mechanics, difficulties with the user interface (UI), or a lack of engagement with the game type. Identifying these factors can provide valuable insights for improving player onboarding, game design, and overall user experience to enhance retention and progression rates."
      ],
      "metadata": {
        "id": "Bnk3PVOn_73j"
      }
    },
    {
      "cell_type": "code",
      "source": [
        "plt.figure(figsize=(10, 6))\n",
        "sns.histplot(df['min_month'], bins=20, kde=True)\n",
        "plt.xlabel('Min Month')\n",
        "plt.ylabel('Frequency')\n",
        "plt.title('Distribution of Min Month')\n",
        "plt.show()"
      ],
      "metadata": {
        "colab": {
          "base_uri": "https://localhost:8080/",
          "height": 564
        },
        "id": "YOuKx50-_t4s",
        "outputId": "916aae21-bd77-4391-c0b4-935099f1a307"
      },
      "execution_count": null,
      "outputs": [
        {
          "output_type": "display_data",
          "data": {
            "text/plain": [
              "<Figure size 1000x600 with 1 Axes>"
            ],
            "image/png": "[encoded data removed]"
          },
          "metadata": {}
        }
      ]
    },
    {
      "cell_type": "code",
      "source": [
        "sns.boxplot(df['min_month'])"
      ],
      "metadata": {
        "colab": {
          "base_uri": "https://localhost:8080/",
          "height": 429
        },
        "id": "LUs9dEcxA3Xc",
        "outputId": "b9b4f1a1-107a-4001-acda-723787811d63"
      },
      "execution_count": null,
      "outputs": [
        {
          "output_type": "execute_result",
          "data": {
            "text/plain": [
              "<Axes: ylabel='min_month'>"
            ]
          },
          "metadata": {},
          "execution_count": 42
        },
        {
          "output_type": "display_data",
          "data": {
            "text/plain": [
              "<Figure size 640x480 with 1 Axes>"
            ],
            "image/png": "[encoded data removed]"
          },
          "metadata": {}
        }
      ]
    },
    {
      "cell_type": "markdown",
      "source": [
        "The boxplot analysis indicates that there are no significant outliers present in the dataset.Because of the values it can not be observed in boxplot. However, when examining the max_month variable, we observe a lack of consistency in its distribution. The histogram reveals two distinct peak points, suggesting a bimodal pattern. This indicates that player activity is not evenly distributed over time, and there may be underlying factors, such as seasonal trends, game updates, or specific in-game events, influencing player engagement at different periods."
      ],
      "metadata": {
        "id": "1hLa1VwcCg7g"
      }
    },
    {
      "cell_type": "code",
      "source": [
        "sns.histplot(df['max_month'], bins=20, kde=True)\n",
        "plt.xlabel('Max Month')\n",
        "plt.ylabel('Frequency')\n",
        "plt.title('Distribution of Max Month')\n",
        "plt.show()"
      ],
      "metadata": {
        "colab": {
          "base_uri": "https://localhost:8080/",
          "height": 472
        },
        "id": "PXL6wlFMCEAc",
        "outputId": "27194f45-ea13-4d6d-e5da-176670a22355"
      },
      "execution_count": null,
      "outputs": [
        {
          "output_type": "display_data",
          "data": {
            "text/plain": [
              "<Figure size 640x480 with 1 Axes>"
            ],
            "image/png": "[encoded data removed]"
          },
          "metadata": {}
        }
      ]
    },
    {
      "cell_type": "markdown",
      "source": [
        "The histogram shows a left-skewed (negatively skewed) distribution, indicating that the majority of players have a high maximum playing duration, with many remaining active for almost a year. This suggests that while some players may churn early, a significant portion of the player base remains engaged for an extended period. Such a distribution could be influenced by factors like game content updates, long-term progression systems, or strong community engagement."
      ],
      "metadata": {
        "id": "If60F6ahJXox"
      }
    },
    {
      "cell_type": "code",
      "source": [
        "plt.figure(figsize=(10, 6))\n",
        "sns.histplot(df['Average_Hour'], bins=20, kde=True)\n",
        "plt.xlabel('Average Hour')\n",
        "plt.ylabel('Frequency')\n",
        "plt.title('Distribution of Average Hour')\n",
        "plt.show()"
      ],
      "metadata": {
        "colab": {
          "base_uri": "https://localhost:8080/",
          "height": 564
        },
        "id": "fCZ7vMQhL09F",
        "outputId": "af7ac5af-f91e-4898-ff23-5479ce7255dc"
      },
      "execution_count": null,
      "outputs": [
        {
          "output_type": "display_data",
          "data": {
            "text/plain": [
              "<Figure size 1000x600 with 1 Axes>"
            ],
            "image/png": "[encoded data removed]"
          },
          "metadata": {}
        }
      ]
    },
    {
      "cell_type": "code",
      "source": [
        "sns.boxplot(x=df['Average_Hour'])"
      ],
      "metadata": {
        "colab": {
          "base_uri": "https://localhost:8080/",
          "height": 467
        },
        "id": "mzzd3LRbMC-H",
        "outputId": "cc2d27e6-2f41-44c3-c944-29ad6596f897"
      },
      "execution_count": null,
      "outputs": [
        {
          "output_type": "execute_result",
          "data": {
            "text/plain": [
              "<Axes: xlabel='Average_Hour'>"
            ]
          },
          "metadata": {},
          "execution_count": 51
        },
        {
          "output_type": "display_data",
          "data": {
            "text/plain": [
              "<Figure size 640x480 with 1 Axes>"
            ],
            "image/png": "[encoded data removed]"
          },
          "metadata": {}
        }
      ]
    },
    {
      "cell_type": "code",
      "source": [
        "df['Average_Hour'].describe()"
      ],
      "metadata": {
        "colab": {
          "base_uri": "https://localhost:8080/",
          "height": 335
        },
        "id": "wQUjihyAMP1M",
        "outputId": "59ab51e9-2827-4b5a-dc5f-dfa7fcc46192"
      },
      "execution_count": null,
      "outputs": [
        {
          "output_type": "execute_result",
          "data": {
            "text/plain": [
              "count   37354.000\n",
              "mean        1.064\n",
              "std         1.341\n",
              "min         0.167\n",
              "25%         0.167\n",
              "50%         0.500\n",
              "75%         1.417\n",
              "max        20.266\n",
              "Name: Average_Hour, dtype: float64"
            ],
            "text/html": [
              "<div>\n",
              "<style scoped>\n",
              "    .dataframe tbody tr th:only-of-type {\n",
              "        vertical-align: middle;\n",
              "    }\n",
              "\n",
              "    .dataframe tbody tr th {\n",
              "        vertical-align: top;\n",
              "    }\n",
              "\n",
              "    .dataframe thead th {\n",
              "        text-align: right;\n",
              "    }\n",
              "</style>\n",
              "<table border=\"1\" class=\"dataframe\">\n",
              "  <thead>\n",
              "    <tr style=\"text-align: right;\">\n",
              "      <th></th>\n",
              "      <th>Average_Hour</th>\n",
              "    </tr>\n",
              "  </thead>\n",
              "  <tbody>\n",
              "    <tr>\n",
              "      <th>count</th>\n",
              "      <td>37354.000</td>\n",
              "    </tr>\n",
              "    <tr>\n",
              "      <th>mean</th>\n",
              "      <td>1.064</td>\n",
              "    </tr>\n",
              "    <tr>\n",
              "      <th>std</th>\n",
              "      <td>1.341</td>\n",
              "    </tr>\n",
              "    <tr>\n",
              "      <th>min</th>\n",
              "      <td>0.167</td>\n",
              "    </tr>\n",
              "    <tr>\n",
              "      <th>25%</th>\n",
              "      <td>0.167</td>\n",
              "    </tr>\n",
              "    <tr>\n",
              "      <th>50%</th>\n",
              "      <td>0.500</td>\n",
              "    </tr>\n",
              "    <tr>\n",
              "      <th>75%</th>\n",
              "      <td>1.417</td>\n",
              "    </tr>\n",
              "    <tr>\n",
              "      <th>max</th>\n",
              "      <td>20.266</td>\n",
              "    </tr>\n",
              "  </tbody>\n",
              "</table>\n",
              "</div><br><label><b>dtype:</b> float64</label>"
            ]
          },
          "metadata": {},
          "execution_count": 52
        }
      ]
    },
    {
      "cell_type": "markdown",
      "source": [
        "The distribution of average hours played by gamers primarily falls between 0 and 7.5 hours, indicating that most players tend to engage with the game for relatively short durations on average. However, the data also contains a significant number of outliers, which suggests that there are a few players who either play for much longer periods or exhibit unusual patterns of behavior. These outliers may represent highly engaged players or players who have sporadic gaming sessions."
      ],
      "metadata": {
        "id": "asgmZUoMPLks"
      }
    },
    {
      "cell_type": "code",
      "source": [
        "plt.figure(figsize=(10, 6))\n",
        "sns.histplot(df['Average_Playing_density'], bins=20, kde=True)\n",
        "plt.xlabel('Average Playing Density')\n",
        "plt.ylabel('Frequency')\n",
        "plt.show()"
      ],
      "metadata": {
        "colab": {
          "base_uri": "https://localhost:8080/",
          "height": 542
        },
        "id": "-swXtjFBP8F7",
        "outputId": "bc568be6-296a-45e9-e6d8-d9aad5181a0c"
      },
      "execution_count": null,
      "outputs": [
        {
          "output_type": "display_data",
          "data": {
            "text/plain": [
              "<Figure size 1000x600 with 1 Axes>"
            ],
            "image/png": "[encoded data removed]"
          },
          "metadata": {}
        }
      ]
    },
    {
      "cell_type": "code",
      "source": [
        "sns.boxplot(x=df['Average_Playing_density'])"
      ],
      "metadata": {
        "colab": {
          "base_uri": "https://localhost:8080/",
          "height": 468
        },
        "id": "-WtRsa6IQWSo",
        "outputId": "05ff0d85-a536-4c63-8398-8852530a82bd"
      },
      "execution_count": null,
      "outputs": [
        {
          "output_type": "execute_result",
          "data": {
            "text/plain": [
              "<Axes: xlabel='Average_Playing_density'>"
            ]
          },
          "metadata": {},
          "execution_count": 55
        },
        {
          "output_type": "display_data",
          "data": {
            "text/plain": [
              "<Figure size 640x480 with 1 Axes>"
            ],
            "image/png": "[encoded data removed]"
          },
          "metadata": {}
        }
      ]
    },
    {
      "cell_type": "markdown",
      "source": [
        "The player density primarily falls between 0 and 0.2, indicating that most players in the dataset have lower engagement levels, with a significant portion of the player base playing for only brief periods. This suggests that a large number of gamers may be less engaged or play sporadically. Additionally, the boxplot reveals the presence of many outliers, further emphasizing that there are a few players who exhibit unusually high engagement levels compared to the majority. These outliers may represent highly active players or those with irregular, intense bursts of activity."
      ],
      "metadata": {
        "id": "XAgvRhrRQfmX"
      }
    },
    {
      "cell_type": "markdown",
      "source": [
        "# Cross Relations with Variables\n"
      ],
      "metadata": {
        "id": "An8IXBZBRTWK"
      }
    },
    {
      "cell_type": "markdown",
      "source": [
        "## Inconstincy in Data"
      ],
      "metadata": {
        "id": "C_a-FdtTKlg9"
      }
    },
    {
      "cell_type": "markdown",
      "source": [
        "Upon reviewing the data table, I noticed that for some players, the minimum and maximum months are identical, indicating that their gaming activity is limited to a single month. This suggests that while some players have a distinct interval of playtime (i.e., they engage with the game over a longer period), others may only play during a brief, isolated period without a consistent interval of activity. This difference in behavior could reflect varying levels of engagement, ranging from casual players to more dedicated ones. Identifying these patterns may provide valuable insights for improving player retention strategies and tailoring content to different player segments.Thats why, i create a new variable based on interval."
      ],
      "metadata": {
        "id": "NHj3fzHTKDx9"
      }
    },
    {
      "cell_type": "code",
      "source": [
        "sns.heatmap(data=df.corr())"
      ],
      "metadata": {
        "colab": {
          "base_uri": "https://localhost:8080/",
          "height": 612
        },
        "id": "hfctNQgbRgna",
        "outputId": "3d85536e-0de0-4a42-b821-f8ed6971caef"
      },
      "execution_count": null,
      "outputs": [
        {
          "output_type": "execute_result",
          "data": {
            "text/plain": [
              "<Axes: >"
            ]
          },
          "metadata": {},
          "execution_count": 5
        },
        {
          "output_type": "display_data",
          "data": {
            "text/plain": [
              "<Figure size 640x480 with 2 Axes>"
            ],
            "image/png": "[encoded data removed]"
          },
          "metadata": {}
        }
      ]
    },
    {
      "cell_type": "markdown",
      "source": [
        "Upon analyzing the churn , I observed a negative high correlation between **min_months** and high positive correlation between several key variables: **max_level**, **unique_days**, **total_timestamps**, and **guild**. This indicates that as these factors increase, the likelihood of player churn also increases. For example, players with higher maximum levels, more unique days of play, or longer total gameplay durations may exhibit specific patterns of behavior that correlate with higher churn rates. Additionally, the guild variable plays a significant role, suggesting that certain guild dynamics or membership may influence player retention. Understanding these relationships is crucial for identifying at-risk players and developing strategies to reduce churn."
      ],
      "metadata": {
        "id": "lox0iYFpSN8a"
      }
    },
    {
      "cell_type": "code",
      "source": [
        "df.groupby('Playing_after_6_months').agg({'guild':'count','max_level':['mean','max','min','std'],'unique_days':['mean','max','min','std'],'total_timestamps':['mean','max','min','std'],'difference_month':['mean','max','min','std']})"
      ],
      "metadata": {
        "id": "MOfcMb9HRikV",
        "colab": {
          "base_uri": "https://localhost:8080/",
          "height": 175
        },
        "outputId": "eb7510ff-41bf-4442-b817-fd1f727e329a"
      },
      "execution_count": null,
      "outputs": [
        {
          "output_type": "execute_result",
          "data": {
            "text/plain": [
              "                        guild max_level                unique_days                 total_timestamps                     difference_month              \n",
              "                        count      mean max min    std        mean  max min    std             mean    max min      std             mean max min   std\n",
              "Playing_after_6_months                                                                                                                                \n",
              "0                       29149    13.229  80   1 20.318       4.614  128   1 10.075           61.531   5676   1  254.843            0.446   4   0 0.953\n",
              "1                        8205    46.216  80   1 28.170      67.878  352   2 73.239         1100.934  42801   2 1759.558            8.786  11   5 2.101"
            ],
            "text/html": [
              "\n",
              "  <div id=\"df-2854f9a9-f2a3-4e9b-8227-cc7fc68413fe\" class=\"colab-df-container\">\n",
              "    <div>\n",
              "<style scoped>\n",
              "    .dataframe tbody tr th:only-of-type {\n",
              "        vertical-align: middle;\n",
              "    }\n",
              "\n",
              "    .dataframe tbody tr th {\n",
              "        vertical-align: top;\n",
              "    }\n",
              "\n",
              "    .dataframe thead tr th {\n",
              "        text-align: left;\n",
              "    }\n",
              "\n",
              "    .dataframe thead tr:last-of-type th {\n",
              "        text-align: right;\n",
              "    }\n",
              "</style>\n",
              "<table border=\"1\" class=\"dataframe\">\n",
              "  <thead>\n",
              "    <tr>\n",
              "      <th></th>\n",
              "      <th>guild</th>\n",
              "      <th colspan=\"4\" halign=\"left\">max_level</th>\n",
              "      <th colspan=\"4\" halign=\"left\">unique_days</th>\n",
              "      <th colspan=\"4\" halign=\"left\">total_timestamps</th>\n",
              "      <th colspan=\"4\" halign=\"left\">difference_month</th>\n",
              "    </tr>\n",
              "    <tr>\n",
              "      <th></th>\n",
              "      <th>count</th>\n",
              "      <th>mean</th>\n",
              "      <th>max</th>\n",
              "      <th>min</th>\n",
              "      <th>std</th>\n",
              "      <th>mean</th>\n",
              "      <th>max</th>\n",
              "      <th>min</th>\n",
              "      <th>std</th>\n",
              "      <th>mean</th>\n",
              "      <th>max</th>\n",
              "      <th>min</th>\n",
              "      <th>std</th>\n",
              "      <th>mean</th>\n",
              "      <th>max</th>\n",
              "      <th>min</th>\n",
              "      <th>std</th>\n",
              "    </tr>\n",
              "    <tr>\n",
              "      <th>Playing_after_6_months</th>\n",
              "      <th></th>\n",
              "      <th></th>\n",
              "      <th></th>\n",
              "      <th></th>\n",
              "      <th></th>\n",
              "      <th></th>\n",
              "      <th></th>\n",
              "      <th></th>\n",
              "      <th></th>\n",
              "      <th></th>\n",
              "      <th></th>\n",
              "      <th></th>\n",
              "      <th></th>\n",
              "      <th></th>\n",
              "      <th></th>\n",
              "      <th></th>\n",
              "      <th></th>\n",
              "    </tr>\n",
              "  </thead>\n",
              "  <tbody>\n",
              "    <tr>\n",
              "      <th>0</th>\n",
              "      <td>29149</td>\n",
              "      <td>13.229</td>\n",
              "      <td>80</td>\n",
              "      <td>1</td>\n",
              "      <td>20.318</td>\n",
              "      <td>4.614</td>\n",
              "      <td>128</td>\n",
              "      <td>1</td>\n",
              "      <td>10.075</td>\n",
              "      <td>61.531</td>\n",
              "      <td>5676</td>\n",
              "      <td>1</td>\n",
              "      <td>254.843</td>\n",
              "      <td>0.446</td>\n",
              "      <td>4</td>\n",
              "      <td>0</td>\n",
              "      <td>0.953</td>\n",
              "    </tr>\n",
              "    <tr>\n",
              "      <th>1</th>\n",
              "      <td>8205</td>\n",
              "      <td>46.216</td>\n",
              "      <td>80</td>\n",
              "      <td>1</td>\n",
              "      <td>28.170</td>\n",
              "      <td>67.878</td>\n",
              "      <td>352</td>\n",
              "      <td>2</td>\n",
              "      <td>73.239</td>\n",
              "      <td>1100.934</td>\n",
              "      <td>42801</td>\n",
              "      <td>2</td>\n",
              "      <td>1759.558</td>\n",
              "      <td>8.786</td>\n",
              "      <td>11</td>\n",
              "      <td>5</td>\n",
              "      <td>2.101</td>\n",
              "    </tr>\n",
              "  </tbody>\n",
              "</table>\n",
              "</div>\n",
              "    <div class=\"colab-df-buttons\">\n",
              "\n",
              "  <div class=\"colab-df-container\">\n",
              "    <button class=\"colab-df-convert\" onclick=\"convertToInteractive('df-2854f9a9-f2a3-4e9b-8227-cc7fc68413fe')\"\n",
              "            title=\"Convert this dataframe to an interactive table.\"\n",
              "            style=\"display:none;\">\n",
              "\n",
              "  <svg xmlns=\"http://www.w3.org/2000/svg\" height=\"24px\" viewBox=\"0 -960 960 960\">\n",
              "    <path d=\"M120-120v-720h720v720H120Zm60-500h600v-160H180v160Zm220 220h160v-160H400v160Zm0 220h160v-160H400v160ZM180-400h160v-160H180v160Zm440 0h160v-160H620v160ZM180-180h160v-160H180v160Zm440 0h160v-160H620v160Z\"/>\n",
              "  </svg>\n",
              "    </button>\n",
              "\n",
              "  <style>\n",
              "    .colab-df-container {\n",
              "      display:flex;\n",
              "      gap: 12px;\n",
              "    }\n",
              "\n",
              "    .colab-df-convert {\n",
              "      background-color: #E8F0FE;\n",
              "      border: none;\n",
              "      border-radius: 50%;\n",
              "      cursor: pointer;\n",
              "      display: none;\n",
              "      fill: #1967D2;\n",
              "      height: 32px;\n",
              "      padding: 0 0 0 0;\n",
              "      width: 32px;\n",
              "    }\n",
              "\n",
              "    .colab-df-convert:hover {\n",
              "      background-color: #E2EBFA;\n",
              "      box-shadow: 0px 1px 2px rgba(60, 64, 67, 0.3), 0px 1px 3px 1px rgba(60, 64, 67, 0.15);\n",
              "      fill: #174EA6;\n",
              "    }\n",
              "\n",
              "    .colab-df-buttons div {\n",
              "      margin-bottom: 4px;\n",
              "    }\n",
              "\n",
              "    [theme=dark] .colab-df-convert {\n",
              "      background-color: #3B4455;\n",
              "      fill: #D2E3FC;\n",
              "    }\n",
              "\n",
              "    [theme=dark] .colab-df-convert:hover {\n",
              "      background-color: #434B5C;\n",
              "      box-shadow: 0px 1px 3px 1px rgba(0, 0, 0, 0.15);\n",
              "      filter: drop-shadow(0px 1px 2px rgba(0, 0, 0, 0.3));\n",
              "      fill: #FFFFFF;\n",
              "    }\n",
              "  </style>\n",
              "\n",
              "    <script>\n",
              "      const buttonEl =\n",
              "        document.querySelector('#df-2854f9a9-f2a3-4e9b-8227-cc7fc68413fe button.colab-df-convert');\n",
              "      buttonEl.style.display =\n",
              "        google.colab.kernel.accessAllowed ? 'block' : 'none';\n",
              "\n",
              "      async function convertToInteractive(key) {\n",
              "        const element = document.querySelector('#df-2854f9a9-f2a3-4e9b-8227-cc7fc68413fe');\n",
              "        const dataTable =\n",
              "          await google.colab.kernel.invokeFunction('convertToInteractive',\n",
              "                                                    [key], {});\n",
              "        if (!dataTable) return;\n",
              "\n",
              "        const docLinkHtml = 'Like what you see? Visit the ' +\n",
              "          '<a target=\"_blank\" href=https://colab.research.google.com/notebooks/data_table.ipynb>data table notebook</a>'\n",
              "          + ' to learn more about interactive tables.';\n",
              "        element.innerHTML = '';\n",
              "        dataTable['output_type'] = 'display_data';\n",
              "        await google.colab.output.renderOutput(dataTable, element);\n",
              "        const docLink = document.createElement('div');\n",
              "        docLink.innerHTML = docLinkHtml;\n",
              "        element.appendChild(docLink);\n",
              "      }\n",
              "    </script>\n",
              "  </div>\n",
              "\n",
              "\n",
              "<div id=\"df-e4976e79-c00d-4f02-91dc-978be2a446d0\">\n",
              "  <button class=\"colab-df-quickchart\" onclick=\"quickchart('df-e4976e79-c00d-4f02-91dc-978be2a446d0')\"\n",
              "            title=\"Suggest charts\"\n",
              "            style=\"display:none;\">\n",
              "\n",
              "<svg xmlns=\"http://www.w3.org/2000/svg\" height=\"24px\"viewBox=\"0 0 24 24\"\n",
              "     width=\"24px\">\n",
              "    <g>\n",
              "        <path d=\"M19 3H5c-1.1 0-2 .9-2 2v14c0 1.1.9 2 2 2h14c1.1 0 2-.9 2-2V5c0-1.1-.9-2-2-2zM9 17H7v-7h2v7zm4 0h-2V7h2v10zm4 0h-2v-4h2v4z\"/>\n",
              "    </g>\n",
              "</svg>\n",
              "  </button>\n",
              "\n",
              "<style>\n",
              "  .colab-df-quickchart {\n",
              "      --bg-color: #E8F0FE;\n",
              "      --fill-color: #1967D2;\n",
              "      --hover-bg-color: #E2EBFA;\n",
              "      --hover-fill-color: #174EA6;\n",
              "      --disabled-fill-color: #AAA;\n",
              "      --disabled-bg-color: #DDD;\n",
              "  }\n",
              "\n",
              "  [theme=dark] .colab-df-quickchart {\n",
              "      --bg-color: #3B4455;\n",
              "      --fill-color: #D2E3FC;\n",
              "      --hover-bg-color: #434B5C;\n",
              "      --hover-fill-color: #FFFFFF;\n",
              "      --disabled-bg-color: #3B4455;\n",
              "      --disabled-fill-color: #666;\n",
              "  }\n",
              "\n",
              "  .colab-df-quickchart {\n",
              "    background-color: var(--bg-color);\n",
              "    border: none;\n",
              "    border-radius: 50%;\n",
              "    cursor: pointer;\n",
              "    display: none;\n",
              "    fill: var(--fill-color);\n",
              "    height: 32px;\n",
              "    padding: 0;\n",
              "    width: 32px;\n",
              "  }\n",
              "\n",
              "  .colab-df-quickchart:hover {\n",
              "    background-color: var(--hover-bg-color);\n",
              "    box-shadow: 0 1px 2px rgba(60, 64, 67, 0.3), 0 1px 3px 1px rgba(60, 64, 67, 0.15);\n",
              "    fill: var(--button-hover-fill-color);\n",
              "  }\n",
              "\n",
              "  .colab-df-quickchart-complete:disabled,\n",
              "  .colab-df-quickchart-complete:disabled:hover {\n",
              "    background-color: var(--disabled-bg-color);\n",
              "    fill: var(--disabled-fill-color);\n",
              "    box-shadow: none;\n",
              "  }\n",
              "\n",
              "  .colab-df-spinner {\n",
              "    border: 2px solid var(--fill-color);\n",
              "    border-color: transparent;\n",
              "    border-bottom-color: var(--fill-color);\n",
              "    animation:\n",
              "      spin 1s steps(1) infinite;\n",
              "  }\n",
              "\n",
              "  @keyframes spin {\n",
              "    0% {\n",
              "      border-color: transparent;\n",
              "      border-bottom-color: var(--fill-color);\n",
              "      border-left-color: var(--fill-color);\n",
              "    }\n",
              "    20% {\n",
              "      border-color: transparent;\n",
              "      border-left-color: var(--fill-color);\n",
              "      border-top-color: var(--fill-color);\n",
              "    }\n",
              "    30% {\n",
              "      border-color: transparent;\n",
              "      border-left-color: var(--fill-color);\n",
              "      border-top-color: var(--fill-color);\n",
              "      border-right-color: var(--fill-color);\n",
              "    }\n",
              "    40% {\n",
              "      border-color: transparent;\n",
              "      border-right-color: var(--fill-color);\n",
              "      border-top-color: var(--fill-color);\n",
              "    }\n",
              "    60% {\n",
              "      border-color: transparent;\n",
              "      border-right-color: var(--fill-color);\n",
              "    }\n",
              "    80% {\n",
              "      border-color: transparent;\n",
              "      border-right-color: var(--fill-color);\n",
              "      border-bottom-color: var(--fill-color);\n",
              "    }\n",
              "    90% {\n",
              "      border-color: transparent;\n",
              "      border-bottom-color: var(--fill-color);\n",
              "    }\n",
              "  }\n",
              "</style>\n",
              "\n",
              "  <script>\n",
              "    async function quickchart(key) {\n",
              "      const quickchartButtonEl =\n",
              "        document.querySelector('#' + key + ' button');\n",
              "      quickchartButtonEl.disabled = true;  // To prevent multiple clicks.\n",
              "      quickchartButtonEl.classList.add('colab-df-spinner');\n",
              "      try {\n",
              "        const charts = await google.colab.kernel.invokeFunction(\n",
              "            'suggestCharts', [key], {});\n",
              "      } catch (error) {\n",
              "        console.error('Error during call to suggestCharts:', error);\n",
              "      }\n",
              "      quickchartButtonEl.classList.remove('colab-df-spinner');\n",
              "      quickchartButtonEl.classList.add('colab-df-quickchart-complete');\n",
              "    }\n",
              "    (() => {\n",
              "      let quickchartButtonEl =\n",
              "        document.querySelector('#df-e4976e79-c00d-4f02-91dc-978be2a446d0 button');\n",
              "      quickchartButtonEl.style.display =\n",
              "        google.colab.kernel.accessAllowed ? 'block' : 'none';\n",
              "    })();\n",
              "  </script>\n",
              "</div>\n",
              "\n",
              "    </div>\n",
              "  </div>\n"
            ],
            "application/vnd.google.colaboratory.intrinsic+json": {
              "type": "dataframe",
              "summary": "{\n  \"name\": \"df\",\n  \"rows\": 2,\n  \"fields\": [\n    {\n      \"column\": [\n        \"Playing_after_6_months\",\n        \"\"\n      ],\n      \"properties\": {\n        \"dtype\": \"number\",\n        \"std\": 0,\n        \"min\": 0,\n        \"max\": 1,\n        \"num_unique_values\": 2,\n        \"samples\": [\n          1,\n          0\n        ],\n        \"semantic_type\": \"\",\n        \"description\": \"\"\n      }\n    },\n    {\n      \"column\": [\n        \"guild\",\n        \"count\"\n      ],\n      \"properties\": {\n        \"dtype\": \"number\",\n        \"std\": 14809,\n        \"min\": 8205,\n        \"max\": 29149,\n        \"num_unique_values\": 2,\n        \"samples\": [\n          8205,\n          29149\n        ],\n        \"semantic_type\": \"\",\n        \"description\": \"\"\n      }\n    },\n    {\n      \"column\": [\n        \"max_level\",\n        \"mean\"\n      ],\n      \"properties\": {\n        \"dtype\": \"number\",\n        \"std\": 23.325453194505695,\n        \"min\": 13.228549864489349,\n        \"max\": 46.215722120658135,\n        \"num_unique_values\": 2,\n        \"samples\": [\n          46.215722120658135,\n          13.228549864489349\n        ],\n        \"semantic_type\": \"\",\n        \"description\": \"\"\n      }\n    },\n    {\n      \"column\": [\n        \"max_level\",\n        \"max\"\n      ],\n      \"properties\": {\n        \"dtype\": \"number\",\n        \"std\": 0,\n        \"min\": 80,\n        \"max\": 80,\n        \"num_unique_values\": 1,\n        \"samples\": [\n          80\n        ],\n        \"semantic_type\": \"\",\n        \"description\": \"\"\n      }\n    },\n    {\n      \"column\": [\n        \"max_level\",\n        \"min\"\n      ],\n      \"properties\": {\n        \"dtype\": \"number\",\n        \"std\": 0,\n        \"min\": 1,\n        \"max\": 1,\n        \"num_unique_values\": 1,\n        \"samples\": [\n          1\n        ],\n        \"semantic_type\": \"\",\n        \"description\": \"\"\n      }\n    },\n    {\n      \"column\": [\n        \"max_level\",\n        \"std\"\n      ],\n      \"properties\": {\n        \"dtype\": \"number\",\n        \"std\": 5.552134399693005,\n        \"min\": 20.31791665239205,\n        \"max\": 28.1698204205561,\n        \"num_unique_values\": 2,\n        \"samples\": [\n          28.1698204205561\n        ],\n        \"semantic_type\": \"\",\n        \"description\": \"\"\n      }\n    },\n    {\n      \"column\": [\n        \"unique_days\",\n        \"mean\"\n      ],\n      \"properties\": {\n        \"dtype\": \"number\",\n        \"std\": 44.7342730577059,\n        \"min\": 4.614429311468661,\n        \"max\": 67.87824497257769,\n        \"num_unique_values\": 2,\n        \"samples\": [\n          67.87824497257769\n        ],\n        \"semantic_type\": \"\",\n        \"description\": \"\"\n      }\n    },\n    {\n      \"column\": [\n        \"unique_days\",\n        \"max\"\n      ],\n      \"properties\": {\n        \"dtype\": \"number\",\n        \"std\": 158,\n        \"min\": 128,\n        \"max\": 352,\n        \"num_unique_values\": 2,\n        \"samples\": [\n          352\n        ],\n        \"semantic_type\": \"\",\n        \"description\": \"\"\n      }\n    },\n    {\n      \"column\": [\n        \"unique_days\",\n        \"min\"\n      ],\n      \"properties\": {\n        \"dtype\": \"number\",\n        \"std\": 0,\n        \"min\": 1,\n        \"max\": 2,\n        \"num_unique_values\": 2,\n        \"samples\": [\n          2\n        ],\n        \"semantic_type\": \"\",\n        \"description\": \"\"\n      }\n    },\n    {\n      \"column\": [\n        \"unique_days\",\n        \"std\"\n      ],\n      \"properties\": {\n        \"dtype\": \"number\",\n        \"std\": 44.664091279456485,\n        \"min\": 10.074549841852619,\n        \"max\": 73.23911348032986,\n        \"num_unique_values\": 2,\n        \"samples\": [\n          73.23911348032986\n        ],\n        \"semantic_type\": \"\",\n        \"description\": \"\"\n      }\n    },\n    {\n      \"column\": [\n        \"total_timestamps\",\n        \"mean\"\n      ],\n      \"properties\": {\n        \"dtype\": \"number\",\n        \"std\": 734.9685541576928,\n        \"min\": 61.53120175649251,\n        \"max\": 1100.9336989640462,\n        \"num_unique_values\": 2,\n        \"samples\": [\n          1100.9336989640462\n        ],\n        \"semantic_type\": \"\",\n        \"description\": \"\"\n      }\n    },\n    {\n      \"column\": [\n        \"total_timestamps\",\n        \"max\"\n      ],\n      \"properties\": {\n        \"dtype\": \"number\",\n        \"std\": 26251,\n        \"min\": 5676,\n        \"max\": 42801,\n        \"num_unique_values\": 2,\n        \"samples\": [\n          42801\n        ],\n        \"semantic_type\": \"\",\n        \"description\": \"\"\n      }\n    },\n    {\n      \"column\": [\n        \"total_timestamps\",\n        \"min\"\n      ],\n      \"properties\": {\n        \"dtype\": \"number\",\n        \"std\": 0,\n        \"min\": 1,\n        \"max\": 2,\n        \"num_unique_values\": 2,\n        \"samples\": [\n          2\n        ],\n        \"semantic_type\": \"\",\n        \"description\": \"\"\n      }\n    },\n    {\n      \"column\": [\n        \"total_timestamps\",\n        \"std\"\n      ],\n      \"properties\": {\n        \"dtype\": \"number\",\n        \"std\": 1063.9944935047936,\n        \"min\": 254.84274924900717,\n        \"max\": 1759.5581922537783,\n        \"num_unique_values\": 2,\n        \"samples\": [\n          1759.5581922537783\n        ],\n        \"semantic_type\": \"\",\n        \"description\": \"\"\n      }\n    },\n    {\n      \"column\": [\n        \"difference_month\",\n        \"mean\"\n      ],\n      \"properties\": {\n        \"dtype\": \"number\",\n        \"std\": 5.897173331571918,\n        \"min\": 0.44612165082850186,\n        \"max\": 8.785984156002437,\n        \"num_unique_values\": 2,\n        \"samples\": [\n          8.785984156002437\n        ],\n        \"semantic_type\": \"\",\n        \"description\": \"\"\n      }\n    },\n    {\n      \"column\": [\n        \"difference_month\",\n        \"max\"\n      ],\n      \"properties\": {\n        \"dtype\": \"number\",\n        \"std\": 4,\n        \"min\": 4,\n        \"max\": 11,\n        \"num_unique_values\": 2,\n        \"samples\": [\n          11\n        ],\n        \"semantic_type\": \"\",\n        \"description\": \"\"\n      }\n    },\n    {\n      \"column\": [\n        \"difference_month\",\n        \"min\"\n      ],\n      \"properties\": {\n        \"dtype\": \"number\",\n        \"std\": 3,\n        \"min\": 0,\n        \"max\": 5,\n        \"num_unique_values\": 2,\n        \"samples\": [\n          5\n        ],\n        \"semantic_type\": \"\",\n        \"description\": \"\"\n      }\n    },\n    {\n      \"column\": [\n        \"difference_month\",\n        \"std\"\n      ],\n      \"properties\": {\n        \"dtype\": \"number\",\n        \"std\": 0.8119337143071688,\n        \"min\": 0.9532188189522878,\n        \"max\": 2.101466489473448,\n        \"num_unique_values\": 2,\n        \"samples\": [\n          2.101466489473448\n        ],\n        \"semantic_type\": \"\",\n        \"description\": \"\"\n      }\n    }\n  ]\n}"
            }
          },
          "metadata": {},
          "execution_count": 7
        }
      ]
    },
    {
      "cell_type": "code",
      "source": [
        "churners = df[df['Playing_after_6_months']==0]\n",
        "churners[ (churners['total_timestamps']<=128)]['total_timestamps'].describe()"
      ],
      "metadata": {
        "colab": {
          "base_uri": "https://localhost:8080/",
          "height": 335
        },
        "id": "IlZ3wrA6wfOl",
        "outputId": "22ab87c2-0fb8-46ab-acbc-d3f52710de93"
      },
      "execution_count": 7,
      "outputs": [
        {
          "output_type": "execute_result",
          "data": {
            "text/plain": [
              "count   26741.000\n",
              "mean       11.505\n",
              "std        21.187\n",
              "min         1.000\n",
              "25%         1.000\n",
              "50%         3.000\n",
              "75%        10.000\n",
              "max       128.000\n",
              "Name: total_timestamps, dtype: float64"
            ],
            "text/html": [
              "<div>\n",
              "<style scoped>\n",
              "    .dataframe tbody tr th:only-of-type {\n",
              "        vertical-align: middle;\n",
              "    }\n",
              "\n",
              "    .dataframe tbody tr th {\n",
              "        vertical-align: top;\n",
              "    }\n",
              "\n",
              "    .dataframe thead th {\n",
              "        text-align: right;\n",
              "    }\n",
              "</style>\n",
              "<table border=\"1\" class=\"dataframe\">\n",
              "  <thead>\n",
              "    <tr style=\"text-align: right;\">\n",
              "      <th></th>\n",
              "      <th>total_timestamps</th>\n",
              "    </tr>\n",
              "  </thead>\n",
              "  <tbody>\n",
              "    <tr>\n",
              "      <th>count</th>\n",
              "      <td>26741.000</td>\n",
              "    </tr>\n",
              "    <tr>\n",
              "      <th>mean</th>\n",
              "      <td>11.505</td>\n",
              "    </tr>\n",
              "    <tr>\n",
              "      <th>std</th>\n",
              "      <td>21.187</td>\n",
              "    </tr>\n",
              "    <tr>\n",
              "      <th>min</th>\n",
              "      <td>1.000</td>\n",
              "    </tr>\n",
              "    <tr>\n",
              "      <th>25%</th>\n",
              "      <td>1.000</td>\n",
              "    </tr>\n",
              "    <tr>\n",
              "      <th>50%</th>\n",
              "      <td>3.000</td>\n",
              "    </tr>\n",
              "    <tr>\n",
              "      <th>75%</th>\n",
              "      <td>10.000</td>\n",
              "    </tr>\n",
              "    <tr>\n",
              "      <th>max</th>\n",
              "      <td>128.000</td>\n",
              "    </tr>\n",
              "  </tbody>\n",
              "</table>\n",
              "</div><br><label><b>dtype:</b> float64</label>"
            ]
          },
          "metadata": {},
          "execution_count": 7
        }
      ]
    },
    {
      "cell_type": "code",
      "source": [
        "sns.histplot(data=churners, x='total_timestamps',bins=40)\n",
        "plt.show()"
      ],
      "metadata": {
        "colab": {
          "base_uri": "https://localhost:8080/",
          "height": 450
        },
        "id": "Vuo5I5hO8FPd",
        "outputId": "69b30867-69d9-4cf2-8857-9104163d92c5"
      },
      "execution_count": null,
      "outputs": [
        {
          "output_type": "display_data",
          "data": {
            "text/plain": [
              "<Figure size 640x480 with 1 Axes>"
            ],
            "image/png": "[encoded data removed]"
          },
          "metadata": {}
        }
      ]
    },
    {
      "cell_type": "code",
      "source": [
        "churners[churners['total_timestamps'] <43].shape[0] # I take 2 standart deviation"
      ],
      "metadata": {
        "colab": {
          "base_uri": "https://localhost:8080/"
        },
        "id": "yAC8UdEH9GK8",
        "outputId": "3de98822-184c-4f3c-dd98-cf31d4cc23fb"
      },
      "execution_count": null,
      "outputs": [
        {
          "output_type": "execute_result",
          "data": {
            "text/plain": [
              "24643"
            ]
          },
          "metadata": {},
          "execution_count": 19
        }
      ]
    },
    {
      "cell_type": "code",
      "source": [
        "churners['total_timestamps'].describe()"
      ],
      "metadata": {
        "colab": {
          "base_uri": "https://localhost:8080/",
          "height": 335
        },
        "id": "-lTF4vdIOuT5",
        "outputId": "23dbd991-5f18-4149-98fa-1b5db13ee0f0"
      },
      "execution_count": 9,
      "outputs": [
        {
          "output_type": "execute_result",
          "data": {
            "text/plain": [
              "count   29149.000\n",
              "mean       61.531\n",
              "std       254.843\n",
              "min         1.000\n",
              "25%         1.000\n",
              "50%         3.000\n",
              "75%        16.000\n",
              "max      5676.000\n",
              "Name: total_timestamps, dtype: float64"
            ],
            "text/html": [
              "<div>\n",
              "<style scoped>\n",
              "    .dataframe tbody tr th:only-of-type {\n",
              "        vertical-align: middle;\n",
              "    }\n",
              "\n",
              "    .dataframe tbody tr th {\n",
              "        vertical-align: top;\n",
              "    }\n",
              "\n",
              "    .dataframe thead th {\n",
              "        text-align: right;\n",
              "    }\n",
              "</style>\n",
              "<table border=\"1\" class=\"dataframe\">\n",
              "  <thead>\n",
              "    <tr style=\"text-align: right;\">\n",
              "      <th></th>\n",
              "      <th>total_timestamps</th>\n",
              "    </tr>\n",
              "  </thead>\n",
              "  <tbody>\n",
              "    <tr>\n",
              "      <th>count</th>\n",
              "      <td>29149.000</td>\n",
              "    </tr>\n",
              "    <tr>\n",
              "      <th>mean</th>\n",
              "      <td>61.531</td>\n",
              "    </tr>\n",
              "    <tr>\n",
              "      <th>std</th>\n",
              "      <td>254.843</td>\n",
              "    </tr>\n",
              "    <tr>\n",
              "      <th>min</th>\n",
              "      <td>1.000</td>\n",
              "    </tr>\n",
              "    <tr>\n",
              "      <th>25%</th>\n",
              "      <td>1.000</td>\n",
              "    </tr>\n",
              "    <tr>\n",
              "      <th>50%</th>\n",
              "      <td>3.000</td>\n",
              "    </tr>\n",
              "    <tr>\n",
              "      <th>75%</th>\n",
              "      <td>16.000</td>\n",
              "    </tr>\n",
              "    <tr>\n",
              "      <th>max</th>\n",
              "      <td>5676.000</td>\n",
              "    </tr>\n",
              "  </tbody>\n",
              "</table>\n",
              "</div><br><label><b>dtype:</b> float64</label>"
            ]
          },
          "metadata": {},
          "execution_count": 9
        }
      ]
    },
    {
      "cell_type": "code",
      "source": [
        "sns.histplot(data=df[df['Playing_after_6_months']==1], x='total_timestamps',bins=40)\n",
        "plt.show()"
      ],
      "metadata": {
        "colab": {
          "base_uri": "https://localhost:8080/",
          "height": 450
        },
        "id": "LRj0IBV-_OuP",
        "outputId": "7fb39070-4c1e-4b50-9c8d-c3668aad2ebd"
      },
      "execution_count": null,
      "outputs": [
        {
          "output_type": "display_data",
          "data": {
            "text/plain": [
              "<Figure size 640x480 with 1 Axes>"
            ],
            "image/png": "[encoded data removed]"
          },
          "metadata": {}
        }
      ]
    },
    {
      "cell_type": "code",
      "source": [
        "df.loc[df['Playing_after_6_months']==1,'total_timestamps'].describe()"
      ],
      "metadata": {
        "colab": {
          "base_uri": "https://localhost:8080/",
          "height": 335
        },
        "id": "SO7pd3th-SIH",
        "outputId": "0aa2e796-b325-4fd8-c6d3-bd6a87c08109"
      },
      "execution_count": null,
      "outputs": [
        {
          "output_type": "execute_result",
          "data": {
            "text/plain": [
              "count    8205.000\n",
              "mean     1100.934\n",
              "std      1759.558\n",
              "min         2.000\n",
              "25%        32.000\n",
              "50%       268.000\n",
              "75%      1534.000\n",
              "max     42801.000\n",
              "Name: total_timestamps, dtype: float64"
            ],
            "text/html": [
              "<div>\n",
              "<style scoped>\n",
              "    .dataframe tbody tr th:only-of-type {\n",
              "        vertical-align: middle;\n",
              "    }\n",
              "\n",
              "    .dataframe tbody tr th {\n",
              "        vertical-align: top;\n",
              "    }\n",
              "\n",
              "    .dataframe thead th {\n",
              "        text-align: right;\n",
              "    }\n",
              "</style>\n",
              "<table border=\"1\" class=\"dataframe\">\n",
              "  <thead>\n",
              "    <tr style=\"text-align: right;\">\n",
              "      <th></th>\n",
              "      <th>total_timestamps</th>\n",
              "    </tr>\n",
              "  </thead>\n",
              "  <tbody>\n",
              "    <tr>\n",
              "      <th>count</th>\n",
              "      <td>8205.000</td>\n",
              "    </tr>\n",
              "    <tr>\n",
              "      <th>mean</th>\n",
              "      <td>1100.934</td>\n",
              "    </tr>\n",
              "    <tr>\n",
              "      <th>std</th>\n",
              "      <td>1759.558</td>\n",
              "    </tr>\n",
              "    <tr>\n",
              "      <th>min</th>\n",
              "      <td>2.000</td>\n",
              "    </tr>\n",
              "    <tr>\n",
              "      <th>25%</th>\n",
              "      <td>32.000</td>\n",
              "    </tr>\n",
              "    <tr>\n",
              "      <th>50%</th>\n",
              "      <td>268.000</td>\n",
              "    </tr>\n",
              "    <tr>\n",
              "      <th>75%</th>\n",
              "      <td>1534.000</td>\n",
              "    </tr>\n",
              "    <tr>\n",
              "      <th>max</th>\n",
              "      <td>42801.000</td>\n",
              "    </tr>\n",
              "  </tbody>\n",
              "</table>\n",
              "</div><br><label><b>dtype:</b> float64</label>"
            ]
          },
          "metadata": {},
          "execution_count": 20
        }
      ]
    },
    {
      "cell_type": "code",
      "source": [
        "df[(df['Playing_after_6_months']==1) & (df['total_timestamps']>128)].shape[0]"
      ],
      "metadata": {
        "colab": {
          "base_uri": "https://localhost:8080/"
        },
        "id": "h7vJhBTZ_Y4y",
        "outputId": "b63d61aa-153c-489d-d104-e0f28b0e0a9f"
      },
      "execution_count": null,
      "outputs": [
        {
          "output_type": "execute_result",
          "data": {
            "text/plain": [
              "4851"
            ]
          },
          "metadata": {},
          "execution_count": 27
        }
      ]
    },
    {
      "cell_type": "code",
      "source": [
        "\n",
        "sns.barplot(data=churners, x='guild', y='max_level')\n",
        "plt.show()"
      ],
      "metadata": {
        "colab": {
          "base_uri": "https://localhost:8080/",
          "height": 449
        },
        "id": "tP2YznVlpvKO",
        "outputId": "978b2e3f-229b-4fa3-965b-59f95d78e887"
      },
      "execution_count": null,
      "outputs": [
        {
          "output_type": "display_data",
          "data": {
            "text/plain": [
              "<Figure size 640x480 with 1 Axes>"
            ],
            "image/png": "[encoded data removed]"
          },
          "metadata": {}
        }
      ]
    },
    {
      "cell_type": "code",
      "source": [
        "df.groupby(['Playing_after_6_months','guild']).agg({'guild':'count'})"
      ],
      "metadata": {
        "colab": {
          "base_uri": "https://localhost:8080/",
          "height": 206
        },
        "id": "z7MmZXBfunfp",
        "outputId": "40268f0c-7dbd-4705-8144-95533c626434"
      },
      "execution_count": null,
      "outputs": [
        {
          "output_type": "execute_result",
          "data": {
            "text/plain": [
              "                              guild\n",
              "Playing_after_6_months guild       \n",
              "0                      0      23052\n",
              "                       1       6097\n",
              "1                      0       2232\n",
              "                       1       5973"
            ],
            "text/html": [
              "\n",
              "  <div id=\"df-bacb8721-35ac-4c04-ac41-41e26d262918\" class=\"colab-df-container\">\n",
              "    <div>\n",
              "<style scoped>\n",
              "    .dataframe tbody tr th:only-of-type {\n",
              "        vertical-align: middle;\n",
              "    }\n",
              "\n",
              "    .dataframe tbody tr th {\n",
              "        vertical-align: top;\n",
              "    }\n",
              "\n",
              "    .dataframe thead th {\n",
              "        text-align: right;\n",
              "    }\n",
              "</style>\n",
              "<table border=\"1\" class=\"dataframe\">\n",
              "  <thead>\n",
              "    <tr style=\"text-align: right;\">\n",
              "      <th></th>\n",
              "      <th></th>\n",
              "      <th>guild</th>\n",
              "    </tr>\n",
              "    <tr>\n",
              "      <th>Playing_after_6_months</th>\n",
              "      <th>guild</th>\n",
              "      <th></th>\n",
              "    </tr>\n",
              "  </thead>\n",
              "  <tbody>\n",
              "    <tr>\n",
              "      <th rowspan=\"2\" valign=\"top\">0</th>\n",
              "      <th>0</th>\n",
              "      <td>23052</td>\n",
              "    </tr>\n",
              "    <tr>\n",
              "      <th>1</th>\n",
              "      <td>6097</td>\n",
              "    </tr>\n",
              "    <tr>\n",
              "      <th rowspan=\"2\" valign=\"top\">1</th>\n",
              "      <th>0</th>\n",
              "      <td>2232</td>\n",
              "    </tr>\n",
              "    <tr>\n",
              "      <th>1</th>\n",
              "      <td>5973</td>\n",
              "    </tr>\n",
              "  </tbody>\n",
              "</table>\n",
              "</div>\n",
              "    <div class=\"colab-df-buttons\">\n",
              "\n",
              "  <div class=\"colab-df-container\">\n",
              "    <button class=\"colab-df-convert\" onclick=\"convertToInteractive('df-bacb8721-35ac-4c04-ac41-41e26d262918')\"\n",
              "            title=\"Convert this dataframe to an interactive table.\"\n",
              "            style=\"display:none;\">\n",
              "\n",
              "  <svg xmlns=\"http://www.w3.org/2000/svg\" height=\"24px\" viewBox=\"0 -960 960 960\">\n",
              "    <path d=\"M120-120v-720h720v720H120Zm60-500h600v-160H180v160Zm220 220h160v-160H400v160Zm0 220h160v-160H400v160ZM180-400h160v-160H180v160Zm440 0h160v-160H620v160ZM180-180h160v-160H180v160Zm440 0h160v-160H620v160Z\"/>\n",
              "  </svg>\n",
              "    </button>\n",
              "\n",
              "  <style>\n",
              "    .colab-df-container {\n",
              "      display:flex;\n",
              "      gap: 12px;\n",
              "    }\n",
              "\n",
              "    .colab-df-convert {\n",
              "      background-color: #E8F0FE;\n",
              "      border: none;\n",
              "      border-radius: 50%;\n",
              "      cursor: pointer;\n",
              "      display: none;\n",
              "      fill: #1967D2;\n",
              "      height: 32px;\n",
              "      padding: 0 0 0 0;\n",
              "      width: 32px;\n",
              "    }\n",
              "\n",
              "    .colab-df-convert:hover {\n",
              "      background-color: #E2EBFA;\n",
              "      box-shadow: 0px 1px 2px rgba(60, 64, 67, 0.3), 0px 1px 3px 1px rgba(60, 64, 67, 0.15);\n",
              "      fill: #174EA6;\n",
              "    }\n",
              "\n",
              "    .colab-df-buttons div {\n",
              "      margin-bottom: 4px;\n",
              "    }\n",
              "\n",
              "    [theme=dark] .colab-df-convert {\n",
              "      background-color: #3B4455;\n",
              "      fill: #D2E3FC;\n",
              "    }\n",
              "\n",
              "    [theme=dark] .colab-df-convert:hover {\n",
              "      background-color: #434B5C;\n",
              "      box-shadow: 0px 1px 3px 1px rgba(0, 0, 0, 0.15);\n",
              "      filter: drop-shadow(0px 1px 2px rgba(0, 0, 0, 0.3));\n",
              "      fill: #FFFFFF;\n",
              "    }\n",
              "  </style>\n",
              "\n",
              "    <script>\n",
              "      const buttonEl =\n",
              "        document.querySelector('#df-bacb8721-35ac-4c04-ac41-41e26d262918 button.colab-df-convert');\n",
              "      buttonEl.style.display =\n",
              "        google.colab.kernel.accessAllowed ? 'block' : 'none';\n",
              "\n",
              "      async function convertToInteractive(key) {\n",
              "        const element = document.querySelector('#df-bacb8721-35ac-4c04-ac41-41e26d262918');\n",
              "        const dataTable =\n",
              "          await google.colab.kernel.invokeFunction('convertToInteractive',\n",
              "                                                    [key], {});\n",
              "        if (!dataTable) return;\n",
              "\n",
              "        const docLinkHtml = 'Like what you see? Visit the ' +\n",
              "          '<a target=\"_blank\" href=https://colab.research.google.com/notebooks/data_table.ipynb>data table notebook</a>'\n",
              "          + ' to learn more about interactive tables.';\n",
              "        element.innerHTML = '';\n",
              "        dataTable['output_type'] = 'display_data';\n",
              "        await google.colab.output.renderOutput(dataTable, element);\n",
              "        const docLink = document.createElement('div');\n",
              "        docLink.innerHTML = docLinkHtml;\n",
              "        element.appendChild(docLink);\n",
              "      }\n",
              "    </script>\n",
              "  </div>\n",
              "\n",
              "\n",
              "<div id=\"df-8a3e8a8b-9ed9-44b6-805a-34921e58bf3a\">\n",
              "  <button class=\"colab-df-quickchart\" onclick=\"quickchart('df-8a3e8a8b-9ed9-44b6-805a-34921e58bf3a')\"\n",
              "            title=\"Suggest charts\"\n",
              "            style=\"display:none;\">\n",
              "\n",
              "<svg xmlns=\"http://www.w3.org/2000/svg\" height=\"24px\"viewBox=\"0 0 24 24\"\n",
              "     width=\"24px\">\n",
              "    <g>\n",
              "        <path d=\"M19 3H5c-1.1 0-2 .9-2 2v14c0 1.1.9 2 2 2h14c1.1 0 2-.9 2-2V5c0-1.1-.9-2-2-2zM9 17H7v-7h2v7zm4 0h-2V7h2v10zm4 0h-2v-4h2v4z\"/>\n",
              "    </g>\n",
              "</svg>\n",
              "  </button>\n",
              "\n",
              "<style>\n",
              "  .colab-df-quickchart {\n",
              "      --bg-color: #E8F0FE;\n",
              "      --fill-color: #1967D2;\n",
              "      --hover-bg-color: #E2EBFA;\n",
              "      --hover-fill-color: #174EA6;\n",
              "      --disabled-fill-color: #AAA;\n",
              "      --disabled-bg-color: #DDD;\n",
              "  }\n",
              "\n",
              "  [theme=dark] .colab-df-quickchart {\n",
              "      --bg-color: #3B4455;\n",
              "      --fill-color: #D2E3FC;\n",
              "      --hover-bg-color: #434B5C;\n",
              "      --hover-fill-color: #FFFFFF;\n",
              "      --disabled-bg-color: #3B4455;\n",
              "      --disabled-fill-color: #666;\n",
              "  }\n",
              "\n",
              "  .colab-df-quickchart {\n",
              "    background-color: var(--bg-color);\n",
              "    border: none;\n",
              "    border-radius: 50%;\n",
              "    cursor: pointer;\n",
              "    display: none;\n",
              "    fill: var(--fill-color);\n",
              "    height: 32px;\n",
              "    padding: 0;\n",
              "    width: 32px;\n",
              "  }\n",
              "\n",
              "  .colab-df-quickchart:hover {\n",
              "    background-color: var(--hover-bg-color);\n",
              "    box-shadow: 0 1px 2px rgba(60, 64, 67, 0.3), 0 1px 3px 1px rgba(60, 64, 67, 0.15);\n",
              "    fill: var(--button-hover-fill-color);\n",
              "  }\n",
              "\n",
              "  .colab-df-quickchart-complete:disabled,\n",
              "  .colab-df-quickchart-complete:disabled:hover {\n",
              "    background-color: var(--disabled-bg-color);\n",
              "    fill: var(--disabled-fill-color);\n",
              "    box-shadow: none;\n",
              "  }\n",
              "\n",
              "  .colab-df-spinner {\n",
              "    border: 2px solid var(--fill-color);\n",
              "    border-color: transparent;\n",
              "    border-bottom-color: var(--fill-color);\n",
              "    animation:\n",
              "      spin 1s steps(1) infinite;\n",
              "  }\n",
              "\n",
              "  @keyframes spin {\n",
              "    0% {\n",
              "      border-color: transparent;\n",
              "      border-bottom-color: var(--fill-color);\n",
              "      border-left-color: var(--fill-color);\n",
              "    }\n",
              "    20% {\n",
              "      border-color: transparent;\n",
              "      border-left-color: var(--fill-color);\n",
              "      border-top-color: var(--fill-color);\n",
              "    }\n",
              "    30% {\n",
              "      border-color: transparent;\n",
              "      border-left-color: var(--fill-color);\n",
              "      border-top-color: var(--fill-color);\n",
              "      border-right-color: var(--fill-color);\n",
              "    }\n",
              "    40% {\n",
              "      border-color: transparent;\n",
              "      border-right-color: var(--fill-color);\n",
              "      border-top-color: var(--fill-color);\n",
              "    }\n",
              "    60% {\n",
              "      border-color: transparent;\n",
              "      border-right-color: var(--fill-color);\n",
              "    }\n",
              "    80% {\n",
              "      border-color: transparent;\n",
              "      border-right-color: var(--fill-color);\n",
              "      border-bottom-color: var(--fill-color);\n",
              "    }\n",
              "    90% {\n",
              "      border-color: transparent;\n",
              "      border-bottom-color: var(--fill-color);\n",
              "    }\n",
              "  }\n",
              "</style>\n",
              "\n",
              "  <script>\n",
              "    async function quickchart(key) {\n",
              "      const quickchartButtonEl =\n",
              "        document.querySelector('#' + key + ' button');\n",
              "      quickchartButtonEl.disabled = true;  // To prevent multiple clicks.\n",
              "      quickchartButtonEl.classList.add('colab-df-spinner');\n",
              "      try {\n",
              "        const charts = await google.colab.kernel.invokeFunction(\n",
              "            'suggestCharts', [key], {});\n",
              "      } catch (error) {\n",
              "        console.error('Error during call to suggestCharts:', error);\n",
              "      }\n",
              "      quickchartButtonEl.classList.remove('colab-df-spinner');\n",
              "      quickchartButtonEl.classList.add('colab-df-quickchart-complete');\n",
              "    }\n",
              "    (() => {\n",
              "      let quickchartButtonEl =\n",
              "        document.querySelector('#df-8a3e8a8b-9ed9-44b6-805a-34921e58bf3a button');\n",
              "      quickchartButtonEl.style.display =\n",
              "        google.colab.kernel.accessAllowed ? 'block' : 'none';\n",
              "    })();\n",
              "  </script>\n",
              "</div>\n",
              "\n",
              "    </div>\n",
              "  </div>\n"
            ],
            "application/vnd.google.colaboratory.intrinsic+json": {
              "type": "dataframe",
              "summary": "{\n  \"name\": \"df\",\n  \"rows\": 4,\n  \"fields\": [\n    {\n      \"column\": \"guild\",\n      \"properties\": {\n        \"dtype\": \"number\",\n        \"std\": 9316,\n        \"min\": 2232,\n        \"max\": 23052,\n        \"num_unique_values\": 4,\n        \"samples\": [\n          6097,\n          5973,\n          23052\n        ],\n        \"semantic_type\": \"\",\n        \"description\": \"\"\n      }\n    }\n  ]\n}"
            }
          },
          "metadata": {},
          "execution_count": 7
        }
      ]
    },
    {
      "cell_type": "markdown",
      "source": [
        "The data indicates that **79% of churned players** are not part of a guild, suggesting that guild membership plays a crucial role in player retention. Being part of a guild may provide social interaction, cooperative gameplay, and a sense of belonging, all of which can contribute to prolonged engagement with the game. In contrast, players who do not join a guild may feel less connected to the game community, leading to a higher likelihood of churn. This insight highlights the importance of encouraging guild participation as a potential strategy to improve player retention and engagement."
      ],
      "metadata": {
        "id": "HRkIpJVowgGH"
      }
    },
    {
      "cell_type": "code",
      "source": [
        "sns.histplot(data=churners, x='max_level')\n",
        "plt.show()"
      ],
      "metadata": {
        "colab": {
          "base_uri": "https://localhost:8080/",
          "height": 450
        },
        "id": "82T8s1KErLQh",
        "outputId": "28d1ce4c-ed82-4855-b3c0-d018f0e209f0"
      },
      "execution_count": null,
      "outputs": [
        {
          "output_type": "display_data",
          "data": {
            "text/plain": [
              "<Figure size 640x480 with 1 Axes>"
            ],
            "image/png": "[encoded data removed]"
          },
          "metadata": {}
        }
      ]
    },
    {
      "cell_type": "code",
      "source": [
        "churners['max_level'].describe()"
      ],
      "metadata": {
        "colab": {
          "base_uri": "https://localhost:8080/",
          "height": 335
        },
        "id": "726HuzlVaZKs",
        "outputId": "bfd64aa3-8b53-441c-ced2-d3fe989c4703"
      },
      "execution_count": null,
      "outputs": [
        {
          "output_type": "execute_result",
          "data": {
            "text/plain": [
              "count   29149.000\n",
              "mean       13.229\n",
              "std        20.318\n",
              "min         1.000\n",
              "25%         1.000\n",
              "50%         3.000\n",
              "75%        14.000\n",
              "max        80.000\n",
              "Name: max_level, dtype: float64"
            ],
            "text/html": [
              "<div>\n",
              "<style scoped>\n",
              "    .dataframe tbody tr th:only-of-type {\n",
              "        vertical-align: middle;\n",
              "    }\n",
              "\n",
              "    .dataframe tbody tr th {\n",
              "        vertical-align: top;\n",
              "    }\n",
              "\n",
              "    .dataframe thead th {\n",
              "        text-align: right;\n",
              "    }\n",
              "</style>\n",
              "<table border=\"1\" class=\"dataframe\">\n",
              "  <thead>\n",
              "    <tr style=\"text-align: right;\">\n",
              "      <th></th>\n",
              "      <th>max_level</th>\n",
              "    </tr>\n",
              "  </thead>\n",
              "  <tbody>\n",
              "    <tr>\n",
              "      <th>count</th>\n",
              "      <td>29149.000</td>\n",
              "    </tr>\n",
              "    <tr>\n",
              "      <th>mean</th>\n",
              "      <td>13.229</td>\n",
              "    </tr>\n",
              "    <tr>\n",
              "      <th>std</th>\n",
              "      <td>20.318</td>\n",
              "    </tr>\n",
              "    <tr>\n",
              "      <th>min</th>\n",
              "      <td>1.000</td>\n",
              "    </tr>\n",
              "    <tr>\n",
              "      <th>25%</th>\n",
              "      <td>1.000</td>\n",
              "    </tr>\n",
              "    <tr>\n",
              "      <th>50%</th>\n",
              "      <td>3.000</td>\n",
              "    </tr>\n",
              "    <tr>\n",
              "      <th>75%</th>\n",
              "      <td>14.000</td>\n",
              "    </tr>\n",
              "    <tr>\n",
              "      <th>max</th>\n",
              "      <td>80.000</td>\n",
              "    </tr>\n",
              "  </tbody>\n",
              "</table>\n",
              "</div><br><label><b>dtype:</b> float64</label>"
            ]
          },
          "metadata": {},
          "execution_count": 11
        }
      ]
    },
    {
      "cell_type": "code",
      "source": [
        "sns.histplot(data=df[df['Playing_after_6_months']==1], x='max_level')\n",
        "plt.show()"
      ],
      "metadata": {
        "colab": {
          "base_uri": "https://localhost:8080/",
          "height": 450
        },
        "id": "knQdjxEgZxLG",
        "outputId": "0ff83f27-5964-4af5-90b0-6eb0308ad70f"
      },
      "execution_count": null,
      "outputs": [
        {
          "output_type": "display_data",
          "data": {
            "text/plain": [
              "<Figure size 640x480 with 1 Axes>"
            ],
            "image/png": "[encoded data removed]"
          },
          "metadata": {}
        }
      ]
    },
    {
      "cell_type": "code",
      "source": [
        "df.loc[df['Playing_after_6_months']==1,'max_level'].describe()"
      ],
      "metadata": {
        "colab": {
          "base_uri": "https://localhost:8080/",
          "height": 335
        },
        "id": "QJ740_lobHQg",
        "outputId": "585b4721-ebb3-46a7-aa64-615f6c89fa36"
      },
      "execution_count": null,
      "outputs": [
        {
          "output_type": "execute_result",
          "data": {
            "text/plain": [
              "count   8205.000\n",
              "mean      46.216\n",
              "std       28.170\n",
              "min        1.000\n",
              "25%       18.000\n",
              "50%       60.000\n",
              "75%       70.000\n",
              "max       80.000\n",
              "Name: max_level, dtype: float64"
            ],
            "text/html": [
              "<div>\n",
              "<style scoped>\n",
              "    .dataframe tbody tr th:only-of-type {\n",
              "        vertical-align: middle;\n",
              "    }\n",
              "\n",
              "    .dataframe tbody tr th {\n",
              "        vertical-align: top;\n",
              "    }\n",
              "\n",
              "    .dataframe thead th {\n",
              "        text-align: right;\n",
              "    }\n",
              "</style>\n",
              "<table border=\"1\" class=\"dataframe\">\n",
              "  <thead>\n",
              "    <tr style=\"text-align: right;\">\n",
              "      <th></th>\n",
              "      <th>max_level</th>\n",
              "    </tr>\n",
              "  </thead>\n",
              "  <tbody>\n",
              "    <tr>\n",
              "      <th>count</th>\n",
              "      <td>8205.000</td>\n",
              "    </tr>\n",
              "    <tr>\n",
              "      <th>mean</th>\n",
              "      <td>46.216</td>\n",
              "    </tr>\n",
              "    <tr>\n",
              "      <th>std</th>\n",
              "      <td>28.170</td>\n",
              "    </tr>\n",
              "    <tr>\n",
              "      <th>min</th>\n",
              "      <td>1.000</td>\n",
              "    </tr>\n",
              "    <tr>\n",
              "      <th>25%</th>\n",
              "      <td>18.000</td>\n",
              "    </tr>\n",
              "    <tr>\n",
              "      <th>50%</th>\n",
              "      <td>60.000</td>\n",
              "    </tr>\n",
              "    <tr>\n",
              "      <th>75%</th>\n",
              "      <td>70.000</td>\n",
              "    </tr>\n",
              "    <tr>\n",
              "      <th>max</th>\n",
              "      <td>80.000</td>\n",
              "    </tr>\n",
              "  </tbody>\n",
              "</table>\n",
              "</div><br><label><b>dtype:</b> float64</label>"
            ]
          },
          "metadata": {},
          "execution_count": 12
        }
      ]
    },
    {
      "cell_type": "markdown",
      "source": [
        "The analysis reveals a stark contrast between churners and non-churners in terms of max_level distribution. 50% of churned players have a maximum level between 0 and 3, indicating that many players leave the game early, possibly due to a lack of engagement, difficulty in progressing, or issues with the onboarding experience. On the other hand, 50% of non-churners reach a maximum level between 0 and 60, suggesting that engaged players tend to progress much further in the game"
      ],
      "metadata": {
        "id": "BUuIlZ0TaJOJ"
      }
    },
    {
      "cell_type": "code",
      "source": [
        "sns.histplot(data=churners, x='unique_days',bins=20)\n",
        "plt.show()"
      ],
      "metadata": {
        "colab": {
          "base_uri": "https://localhost:8080/",
          "height": 450
        },
        "id": "aC-TbJIjhnql",
        "outputId": "3a57943f-6dda-48ce-c3df-e4ae9c9bfdc4"
      },
      "execution_count": null,
      "outputs": [
        {
          "output_type": "display_data",
          "data": {
            "text/plain": [
              "<Figure size 640x480 with 1 Axes>"
            ],
            "image/png": "[encoded data removed]"
          },
          "metadata": {}
        }
      ]
    },
    {
      "cell_type": "code",
      "source": [
        "churners['unique_days'].describe()"
      ],
      "metadata": {
        "colab": {
          "base_uri": "https://localhost:8080/",
          "height": 335
        },
        "id": "ZDpbG09Wgy4U",
        "outputId": "232092af-c1a8-40ec-a1f4-e9d94a77cbba"
      },
      "execution_count": null,
      "outputs": [
        {
          "output_type": "execute_result",
          "data": {
            "text/plain": [
              "count   29149.000\n",
              "mean        4.614\n",
              "std        10.075\n",
              "min         1.000\n",
              "25%         1.000\n",
              "50%         1.000\n",
              "75%         3.000\n",
              "max       128.000\n",
              "Name: unique_days, dtype: float64"
            ],
            "text/html": [
              "<div>\n",
              "<style scoped>\n",
              "    .dataframe tbody tr th:only-of-type {\n",
              "        vertical-align: middle;\n",
              "    }\n",
              "\n",
              "    .dataframe tbody tr th {\n",
              "        vertical-align: top;\n",
              "    }\n",
              "\n",
              "    .dataframe thead th {\n",
              "        text-align: right;\n",
              "    }\n",
              "</style>\n",
              "<table border=\"1\" class=\"dataframe\">\n",
              "  <thead>\n",
              "    <tr style=\"text-align: right;\">\n",
              "      <th></th>\n",
              "      <th>unique_days</th>\n",
              "    </tr>\n",
              "  </thead>\n",
              "  <tbody>\n",
              "    <tr>\n",
              "      <th>count</th>\n",
              "      <td>29149.000</td>\n",
              "    </tr>\n",
              "    <tr>\n",
              "      <th>mean</th>\n",
              "      <td>4.614</td>\n",
              "    </tr>\n",
              "    <tr>\n",
              "      <th>std</th>\n",
              "      <td>10.075</td>\n",
              "    </tr>\n",
              "    <tr>\n",
              "      <th>min</th>\n",
              "      <td>1.000</td>\n",
              "    </tr>\n",
              "    <tr>\n",
              "      <th>25%</th>\n",
              "      <td>1.000</td>\n",
              "    </tr>\n",
              "    <tr>\n",
              "      <th>50%</th>\n",
              "      <td>1.000</td>\n",
              "    </tr>\n",
              "    <tr>\n",
              "      <th>75%</th>\n",
              "      <td>3.000</td>\n",
              "    </tr>\n",
              "    <tr>\n",
              "      <th>max</th>\n",
              "      <td>128.000</td>\n",
              "    </tr>\n",
              "  </tbody>\n",
              "</table>\n",
              "</div><br><label><b>dtype:</b> float64</label>"
            ]
          },
          "metadata": {},
          "execution_count": 14
        }
      ]
    },
    {
      "cell_type": "code",
      "source": [
        "sns.histplot(data=df[df['Playing_after_6_months']==1], x='unique_days')\n",
        "plt.show()"
      ],
      "metadata": {
        "colab": {
          "base_uri": "https://localhost:8080/",
          "height": 450
        },
        "id": "MszySA0qhw7k",
        "outputId": "81251819-70d9-46e9-8d76-a0566b404733"
      },
      "execution_count": null,
      "outputs": [
        {
          "output_type": "display_data",
          "data": {
            "text/plain": [
              "<Figure size 640x480 with 1 Axes>"
            ],
            "image/png": "[encoded data removed]"
          },
          "metadata": {}
        }
      ]
    },
    {
      "cell_type": "code",
      "source": [
        "df.loc[df['Playing_after_6_months']==1,'unique_days'].describe()"
      ],
      "metadata": {
        "colab": {
          "base_uri": "https://localhost:8080/",
          "height": 335
        },
        "id": "vPtVNW2OhNgZ",
        "outputId": "60e5b152-956d-4d9b-f09d-270a2fea0c45"
      },
      "execution_count": null,
      "outputs": [
        {
          "output_type": "execute_result",
          "data": {
            "text/plain": [
              "count   8205.000\n",
              "mean      67.878\n",
              "std       73.239\n",
              "min        2.000\n",
              "25%       11.000\n",
              "50%       37.000\n",
              "75%      105.000\n",
              "max      352.000\n",
              "Name: unique_days, dtype: float64"
            ],
            "text/html": [
              "<div>\n",
              "<style scoped>\n",
              "    .dataframe tbody tr th:only-of-type {\n",
              "        vertical-align: middle;\n",
              "    }\n",
              "\n",
              "    .dataframe tbody tr th {\n",
              "        vertical-align: top;\n",
              "    }\n",
              "\n",
              "    .dataframe thead th {\n",
              "        text-align: right;\n",
              "    }\n",
              "</style>\n",
              "<table border=\"1\" class=\"dataframe\">\n",
              "  <thead>\n",
              "    <tr style=\"text-align: right;\">\n",
              "      <th></th>\n",
              "      <th>unique_days</th>\n",
              "    </tr>\n",
              "  </thead>\n",
              "  <tbody>\n",
              "    <tr>\n",
              "      <th>count</th>\n",
              "      <td>8205.000</td>\n",
              "    </tr>\n",
              "    <tr>\n",
              "      <th>mean</th>\n",
              "      <td>67.878</td>\n",
              "    </tr>\n",
              "    <tr>\n",
              "      <th>std</th>\n",
              "      <td>73.239</td>\n",
              "    </tr>\n",
              "    <tr>\n",
              "      <th>min</th>\n",
              "      <td>2.000</td>\n",
              "    </tr>\n",
              "    <tr>\n",
              "      <th>25%</th>\n",
              "      <td>11.000</td>\n",
              "    </tr>\n",
              "    <tr>\n",
              "      <th>50%</th>\n",
              "      <td>37.000</td>\n",
              "    </tr>\n",
              "    <tr>\n",
              "      <th>75%</th>\n",
              "      <td>105.000</td>\n",
              "    </tr>\n",
              "    <tr>\n",
              "      <th>max</th>\n",
              "      <td>352.000</td>\n",
              "    </tr>\n",
              "  </tbody>\n",
              "</table>\n",
              "</div><br><label><b>dtype:</b> float64</label>"
            ]
          },
          "metadata": {},
          "execution_count": 16
        }
      ]
    },
    {
      "cell_type": "code",
      "source": [
        "sns.histplot(data=df[df['Playing_after_6_months']==1], x='difference_month')\n",
        "plt.show()"
      ],
      "metadata": {
        "colab": {
          "base_uri": "https://localhost:8080/",
          "height": 450
        },
        "id": "kAOn4QproiTp",
        "outputId": "99da150e-5f16-49cc-a6c4-3e74c0bfbd6f"
      },
      "execution_count": null,
      "outputs": [
        {
          "output_type": "display_data",
          "data": {
            "text/plain": [
              "<Figure size 640x480 with 1 Axes>"
            ],
            "image/png": "[encoded data removed]"
          },
          "metadata": {}
        }
      ]
    },
    {
      "cell_type": "code",
      "source": [
        "df[df['Playing_after_6_months']==1]['difference_month'].describe()"
      ],
      "metadata": {
        "colab": {
          "base_uri": "https://localhost:8080/",
          "height": 335
        },
        "id": "bB6k56jXn63c",
        "outputId": "aa96ff7d-71f3-4478-a5ec-5bd781045fd3"
      },
      "execution_count": null,
      "outputs": [
        {
          "output_type": "execute_result",
          "data": {
            "text/plain": [
              "count   8205.000\n",
              "mean       8.786\n",
              "std        2.101\n",
              "min        5.000\n",
              "25%        7.000\n",
              "50%        9.000\n",
              "75%       11.000\n",
              "max       11.000\n",
              "Name: difference_month, dtype: float64"
            ],
            "text/html": [
              "<div>\n",
              "<style scoped>\n",
              "    .dataframe tbody tr th:only-of-type {\n",
              "        vertical-align: middle;\n",
              "    }\n",
              "\n",
              "    .dataframe tbody tr th {\n",
              "        vertical-align: top;\n",
              "    }\n",
              "\n",
              "    .dataframe thead th {\n",
              "        text-align: right;\n",
              "    }\n",
              "</style>\n",
              "<table border=\"1\" class=\"dataframe\">\n",
              "  <thead>\n",
              "    <tr style=\"text-align: right;\">\n",
              "      <th></th>\n",
              "      <th>difference_month</th>\n",
              "    </tr>\n",
              "  </thead>\n",
              "  <tbody>\n",
              "    <tr>\n",
              "      <th>count</th>\n",
              "      <td>8205.000</td>\n",
              "    </tr>\n",
              "    <tr>\n",
              "      <th>mean</th>\n",
              "      <td>8.786</td>\n",
              "    </tr>\n",
              "    <tr>\n",
              "      <th>std</th>\n",
              "      <td>2.101</td>\n",
              "    </tr>\n",
              "    <tr>\n",
              "      <th>min</th>\n",
              "      <td>5.000</td>\n",
              "    </tr>\n",
              "    <tr>\n",
              "      <th>25%</th>\n",
              "      <td>7.000</td>\n",
              "    </tr>\n",
              "    <tr>\n",
              "      <th>50%</th>\n",
              "      <td>9.000</td>\n",
              "    </tr>\n",
              "    <tr>\n",
              "      <th>75%</th>\n",
              "      <td>11.000</td>\n",
              "    </tr>\n",
              "    <tr>\n",
              "      <th>max</th>\n",
              "      <td>11.000</td>\n",
              "    </tr>\n",
              "  </tbody>\n",
              "</table>\n",
              "</div><br><label><b>dtype:</b> float64</label>"
            ]
          },
          "metadata": {},
          "execution_count": 19
        }
      ]
    },
    {
      "cell_type": "code",
      "source": [
        "plt.figure(figsize=(10, 6))\n",
        "sns.histplot(data=churners, x='difference_month')\n",
        "plt.show()"
      ],
      "metadata": {
        "colab": {
          "base_uri": "https://localhost:8080/",
          "height": 542
        },
        "id": "wH48pEyBo3q1",
        "outputId": "ff67bd64-7df4-492c-c250-662cba83717e"
      },
      "execution_count": null,
      "outputs": [
        {
          "output_type": "display_data",
          "data": {
            "text/plain": [
              "<Figure size 1000x600 with 1 Axes>"
            ],
            "image/png": "[encoded data removed]"
          },
          "metadata": {}
        }
      ]
    },
    {
      "cell_type": "code",
      "source": [
        "churners['difference_month'].describe()"
      ],
      "metadata": {
        "colab": {
          "base_uri": "https://localhost:8080/",
          "height": 335
        },
        "id": "P220qN91odpx",
        "outputId": "15972ce8-107b-441b-a5d1-3ce69de5f628"
      },
      "execution_count": null,
      "outputs": [
        {
          "output_type": "execute_result",
          "data": {
            "text/plain": [
              "count   29149.000\n",
              "mean        0.446\n",
              "std         0.953\n",
              "min         0.000\n",
              "25%         0.000\n",
              "50%         0.000\n",
              "75%         0.000\n",
              "max         4.000\n",
              "Name: difference_month, dtype: float64"
            ],
            "text/html": [
              "<div>\n",
              "<style scoped>\n",
              "    .dataframe tbody tr th:only-of-type {\n",
              "        vertical-align: middle;\n",
              "    }\n",
              "\n",
              "    .dataframe tbody tr th {\n",
              "        vertical-align: top;\n",
              "    }\n",
              "\n",
              "    .dataframe thead th {\n",
              "        text-align: right;\n",
              "    }\n",
              "</style>\n",
              "<table border=\"1\" class=\"dataframe\">\n",
              "  <thead>\n",
              "    <tr style=\"text-align: right;\">\n",
              "      <th></th>\n",
              "      <th>difference_month</th>\n",
              "    </tr>\n",
              "  </thead>\n",
              "  <tbody>\n",
              "    <tr>\n",
              "      <th>count</th>\n",
              "      <td>29149.000</td>\n",
              "    </tr>\n",
              "    <tr>\n",
              "      <th>mean</th>\n",
              "      <td>0.446</td>\n",
              "    </tr>\n",
              "    <tr>\n",
              "      <th>std</th>\n",
              "      <td>0.953</td>\n",
              "    </tr>\n",
              "    <tr>\n",
              "      <th>min</th>\n",
              "      <td>0.000</td>\n",
              "    </tr>\n",
              "    <tr>\n",
              "      <th>25%</th>\n",
              "      <td>0.000</td>\n",
              "    </tr>\n",
              "    <tr>\n",
              "      <th>50%</th>\n",
              "      <td>0.000</td>\n",
              "    </tr>\n",
              "    <tr>\n",
              "      <th>75%</th>\n",
              "      <td>0.000</td>\n",
              "    </tr>\n",
              "    <tr>\n",
              "      <th>max</th>\n",
              "      <td>4.000</td>\n",
              "    </tr>\n",
              "  </tbody>\n",
              "</table>\n",
              "</div><br><label><b>dtype:</b> float64</label>"
            ]
          },
          "metadata": {},
          "execution_count": 20
        }
      ]
    },
    {
      "cell_type": "code",
      "source": [
        "sns.histplot(data=churners, x='Average_Hour',bins=40)\n",
        "plt.show()"
      ],
      "metadata": {
        "colab": {
          "base_uri": "https://localhost:8080/",
          "height": 449
        },
        "id": "wjRHwchZpbYD",
        "outputId": "869ea908-227b-4a78-caa7-24fada9b88e8"
      },
      "execution_count": null,
      "outputs": [
        {
          "output_type": "display_data",
          "data": {
            "text/plain": [
              "<Figure size 640x480 with 1 Axes>"
            ],
            "image/png": "[encoded data removed]"
          },
          "metadata": {}
        }
      ]
    },
    {
      "cell_type": "code",
      "source": [
        "churners['Average_Hour'].describe()"
      ],
      "metadata": {
        "colab": {
          "base_uri": "https://localhost:8080/",
          "height": 335
        },
        "id": "itnw4bwmp5G0",
        "outputId": "1e7eb04a-897f-4285-fdfa-913ecf905a5d"
      },
      "execution_count": null,
      "outputs": [
        {
          "output_type": "execute_result",
          "data": {
            "text/plain": [
              "count   29149.000\n",
              "mean        0.874\n",
              "std         1.221\n",
              "min         0.167\n",
              "25%         0.167\n",
              "50%         0.333\n",
              "75%         1.000\n",
              "max        18.056\n",
              "Name: Average_Hour, dtype: float64"
            ],
            "text/html": [
              "<div>\n",
              "<style scoped>\n",
              "    .dataframe tbody tr th:only-of-type {\n",
              "        vertical-align: middle;\n",
              "    }\n",
              "\n",
              "    .dataframe tbody tr th {\n",
              "        vertical-align: top;\n",
              "    }\n",
              "\n",
              "    .dataframe thead th {\n",
              "        text-align: right;\n",
              "    }\n",
              "</style>\n",
              "<table border=\"1\" class=\"dataframe\">\n",
              "  <thead>\n",
              "    <tr style=\"text-align: right;\">\n",
              "      <th></th>\n",
              "      <th>Average_Hour</th>\n",
              "    </tr>\n",
              "  </thead>\n",
              "  <tbody>\n",
              "    <tr>\n",
              "      <th>count</th>\n",
              "      <td>29149.000</td>\n",
              "    </tr>\n",
              "    <tr>\n",
              "      <th>mean</th>\n",
              "      <td>0.874</td>\n",
              "    </tr>\n",
              "    <tr>\n",
              "      <th>std</th>\n",
              "      <td>1.221</td>\n",
              "    </tr>\n",
              "    <tr>\n",
              "      <th>min</th>\n",
              "      <td>0.167</td>\n",
              "    </tr>\n",
              "    <tr>\n",
              "      <th>25%</th>\n",
              "      <td>0.167</td>\n",
              "    </tr>\n",
              "    <tr>\n",
              "      <th>50%</th>\n",
              "      <td>0.333</td>\n",
              "    </tr>\n",
              "    <tr>\n",
              "      <th>75%</th>\n",
              "      <td>1.000</td>\n",
              "    </tr>\n",
              "    <tr>\n",
              "      <th>max</th>\n",
              "      <td>18.056</td>\n",
              "    </tr>\n",
              "  </tbody>\n",
              "</table>\n",
              "</div><br><label><b>dtype:</b> float64</label>"
            ]
          },
          "metadata": {},
          "execution_count": 23
        }
      ]
    },
    {
      "cell_type": "code",
      "source": [
        "sns.histplot(data=df[df['Playing_after_6_months']==1], x='Average_Hour',bins=40)\n",
        "plt.show()"
      ],
      "metadata": {
        "colab": {
          "base_uri": "https://localhost:8080/",
          "height": 449
        },
        "id": "MtEqoRBRp_pT",
        "outputId": "7bfd0e5b-9c54-4672-8135-29649594dc90"
      },
      "execution_count": null,
      "outputs": [
        {
          "output_type": "display_data",
          "data": {
            "text/plain": [
              "<Figure size 640x480 with 1 Axes>"
            ],
            "image/png": "[encoded data removed]"
          },
          "metadata": {}
        }
      ]
    },
    {
      "cell_type": "code",
      "source": [
        "df.loc[df['Playing_after_6_months']==1,'Average_Hour'].describe()"
      ],
      "metadata": {
        "colab": {
          "base_uri": "https://localhost:8080/",
          "height": 335
        },
        "id": "QT2TcmnoqMm9",
        "outputId": "b45213fb-1cb0-4a7c-d2d9-0b4e64bc4720"
      },
      "execution_count": null,
      "outputs": [
        {
          "output_type": "execute_result",
          "data": {
            "text/plain": [
              "count   8205.000\n",
              "mean       1.739\n",
              "std        1.521\n",
              "min        0.167\n",
              "25%        0.432\n",
              "50%        1.372\n",
              "75%        2.608\n",
              "max       20.266\n",
              "Name: Average_Hour, dtype: float64"
            ],
            "text/html": [
              "<div>\n",
              "<style scoped>\n",
              "    .dataframe tbody tr th:only-of-type {\n",
              "        vertical-align: middle;\n",
              "    }\n",
              "\n",
              "    .dataframe tbody tr th {\n",
              "        vertical-align: top;\n",
              "    }\n",
              "\n",
              "    .dataframe thead th {\n",
              "        text-align: right;\n",
              "    }\n",
              "</style>\n",
              "<table border=\"1\" class=\"dataframe\">\n",
              "  <thead>\n",
              "    <tr style=\"text-align: right;\">\n",
              "      <th></th>\n",
              "      <th>Average_Hour</th>\n",
              "    </tr>\n",
              "  </thead>\n",
              "  <tbody>\n",
              "    <tr>\n",
              "      <th>count</th>\n",
              "      <td>8205.000</td>\n",
              "    </tr>\n",
              "    <tr>\n",
              "      <th>mean</th>\n",
              "      <td>1.739</td>\n",
              "    </tr>\n",
              "    <tr>\n",
              "      <th>std</th>\n",
              "      <td>1.521</td>\n",
              "    </tr>\n",
              "    <tr>\n",
              "      <th>min</th>\n",
              "      <td>0.167</td>\n",
              "    </tr>\n",
              "    <tr>\n",
              "      <th>25%</th>\n",
              "      <td>0.432</td>\n",
              "    </tr>\n",
              "    <tr>\n",
              "      <th>50%</th>\n",
              "      <td>1.372</td>\n",
              "    </tr>\n",
              "    <tr>\n",
              "      <th>75%</th>\n",
              "      <td>2.608</td>\n",
              "    </tr>\n",
              "    <tr>\n",
              "      <th>max</th>\n",
              "      <td>20.266</td>\n",
              "    </tr>\n",
              "  </tbody>\n",
              "</table>\n",
              "</div><br><label><b>dtype:</b> float64</label>"
            ]
          },
          "metadata": {},
          "execution_count": 26
        }
      ]
    },
    {
      "cell_type": "markdown",
      "source": [
        "Based on the histogram analysis, non-churners spend approximately three times more than churners. This indicates that players who remain engaged with the game tend to invest significantly more in in-game purchases or subscriptions compared to those who eventually leave. This spending behavior suggests that higher engagement levels correlate with a greater willingness to spend, possibly due to factors such as progression incentives, in-game rewards, or social elements like guild participation. Understanding this pattern can help in designing better monetization and retention strategies, such as targeted promotions or personalized offers to encourage continued engagement."
      ],
      "metadata": {
        "id": "vLl-AbYnq9Wn"
      }
    },
    {
      "cell_type": "code",
      "source": [
        "sns.histplot(data=churners, x='Average_Playing_density',bins=40)\n",
        "plt.show()"
      ],
      "metadata": {
        "colab": {
          "base_uri": "https://localhost:8080/",
          "height": 450
        },
        "id": "u6TEv1QOyIni",
        "outputId": "f99f3b8f-6292-4f03-a136-ff3e25b4ea82"
      },
      "execution_count": null,
      "outputs": [
        {
          "output_type": "display_data",
          "data": {
            "text/plain": [
              "<Figure size 640x480 with 1 Axes>"
            ],
            "image/png": "[encoded data removed]"
          },
          "metadata": {}
        }
      ]
    },
    {
      "cell_type": "code",
      "source": [
        "churners['Average_Playing_density'].describe()"
      ],
      "metadata": {
        "colab": {
          "base_uri": "https://localhost:8080/",
          "height": 335
        },
        "id": "4fmGltqqyNBV",
        "outputId": "61409e2e-e025-45fb-ff5d-014513eee55c"
      },
      "execution_count": null,
      "outputs": [
        {
          "output_type": "execute_result",
          "data": {
            "text/plain": [
              "count   29149.000\n",
              "mean        0.081\n",
              "std         0.115\n",
              "min         0.013\n",
              "25%         0.033\n",
              "50%         0.033\n",
              "75%         0.066\n",
              "max         0.984\n",
              "Name: Average_Playing_density, dtype: float64"
            ],
            "text/html": [
              "<div>\n",
              "<style scoped>\n",
              "    .dataframe tbody tr th:only-of-type {\n",
              "        vertical-align: middle;\n",
              "    }\n",
              "\n",
              "    .dataframe tbody tr th {\n",
              "        vertical-align: top;\n",
              "    }\n",
              "\n",
              "    .dataframe thead th {\n",
              "        text-align: right;\n",
              "    }\n",
              "</style>\n",
              "<table border=\"1\" class=\"dataframe\">\n",
              "  <thead>\n",
              "    <tr style=\"text-align: right;\">\n",
              "      <th></th>\n",
              "      <th>Average_Playing_density</th>\n",
              "    </tr>\n",
              "  </thead>\n",
              "  <tbody>\n",
              "    <tr>\n",
              "      <th>count</th>\n",
              "      <td>29149.000</td>\n",
              "    </tr>\n",
              "    <tr>\n",
              "      <th>mean</th>\n",
              "      <td>0.081</td>\n",
              "    </tr>\n",
              "    <tr>\n",
              "      <th>std</th>\n",
              "      <td>0.115</td>\n",
              "    </tr>\n",
              "    <tr>\n",
              "      <th>min</th>\n",
              "      <td>0.013</td>\n",
              "    </tr>\n",
              "    <tr>\n",
              "      <th>25%</th>\n",
              "      <td>0.033</td>\n",
              "    </tr>\n",
              "    <tr>\n",
              "      <th>50%</th>\n",
              "      <td>0.033</td>\n",
              "    </tr>\n",
              "    <tr>\n",
              "      <th>75%</th>\n",
              "      <td>0.066</td>\n",
              "    </tr>\n",
              "    <tr>\n",
              "      <th>max</th>\n",
              "      <td>0.984</td>\n",
              "    </tr>\n",
              "  </tbody>\n",
              "</table>\n",
              "</div><br><label><b>dtype:</b> float64</label>"
            ]
          },
          "metadata": {},
          "execution_count": 34
        }
      ]
    },
    {
      "cell_type": "code",
      "source": [
        "sns.histplot(data=df[df['Playing_after_6_months']==1], x='Average_Playing_density',bins=40)\n",
        "plt.show()"
      ],
      "metadata": {
        "colab": {
          "base_uri": "https://localhost:8080/",
          "height": 450
        },
        "id": "2xVEX_LwyRQ_",
        "outputId": "ff76ef31-897d-46f3-a97f-eb8b7c4b4e46"
      },
      "execution_count": null,
      "outputs": [
        {
          "output_type": "display_data",
          "data": {
            "text/plain": [
              "<Figure size 640x480 with 1 Axes>"
            ],
            "image/png": "[encoded data removed]"
          },
          "metadata": {}
        }
      ]
    },
    {
      "cell_type": "code",
      "source": [
        "df.loc[df['Playing_after_6_months']==1,'Average_Playing_density'].describe()"
      ],
      "metadata": {
        "colab": {
          "base_uri": "https://localhost:8080/",
          "height": 335
        },
        "id": "vrE9NIuuyXc4",
        "outputId": "e29a8496-c73e-4cca-994c-3f16b1c4768a"
      },
      "execution_count": null,
      "outputs": [
        {
          "output_type": "execute_result",
          "data": {
            "text/plain": [
              "count   8205.000\n",
              "mean       0.214\n",
              "std        0.216\n",
              "min        0.005\n",
              "25%        0.041\n",
              "50%        0.127\n",
              "75%        0.342\n",
              "max        0.962\n",
              "Name: Average_Playing_density, dtype: float64"
            ],
            "text/html": [
              "<div>\n",
              "<style scoped>\n",
              "    .dataframe tbody tr th:only-of-type {\n",
              "        vertical-align: middle;\n",
              "    }\n",
              "\n",
              "    .dataframe tbody tr th {\n",
              "        vertical-align: top;\n",
              "    }\n",
              "\n",
              "    .dataframe thead th {\n",
              "        text-align: right;\n",
              "    }\n",
              "</style>\n",
              "<table border=\"1\" class=\"dataframe\">\n",
              "  <thead>\n",
              "    <tr style=\"text-align: right;\">\n",
              "      <th></th>\n",
              "      <th>Average_Playing_density</th>\n",
              "    </tr>\n",
              "  </thead>\n",
              "  <tbody>\n",
              "    <tr>\n",
              "      <th>count</th>\n",
              "      <td>8205.000</td>\n",
              "    </tr>\n",
              "    <tr>\n",
              "      <th>mean</th>\n",
              "      <td>0.214</td>\n",
              "    </tr>\n",
              "    <tr>\n",
              "      <th>std</th>\n",
              "      <td>0.216</td>\n",
              "    </tr>\n",
              "    <tr>\n",
              "      <th>min</th>\n",
              "      <td>0.005</td>\n",
              "    </tr>\n",
              "    <tr>\n",
              "      <th>25%</th>\n",
              "      <td>0.041</td>\n",
              "    </tr>\n",
              "    <tr>\n",
              "      <th>50%</th>\n",
              "      <td>0.127</td>\n",
              "    </tr>\n",
              "    <tr>\n",
              "      <th>75%</th>\n",
              "      <td>0.342</td>\n",
              "    </tr>\n",
              "    <tr>\n",
              "      <th>max</th>\n",
              "      <td>0.962</td>\n",
              "    </tr>\n",
              "  </tbody>\n",
              "</table>\n",
              "</div><br><label><b>dtype:</b> float64</label>"
            ]
          },
          "metadata": {},
          "execution_count": 36
        }
      ]
    },
    {
      "cell_type": "markdown",
      "source": [
        "# Feature Interactions"
      ],
      "metadata": {
        "id": "yvMy_1Xf5FfL"
      }
    },
    {
      "cell_type": "markdown",
      "source": [
        "Although the correlation analysis reveals a low correlation between timestamps and churn as well as density and churn, I believe there is an underlying causal relationship influencing churn behavior. The histograms indicate that churners tend to have lower density and timestamps compared to non-churners, suggesting that less active players are more likely to leave the game. While the correlation may not be strong, these distributions imply that player activity levels play a role in churn, possibly due to engagement levels, in-game progression, or external factors influencing playtime."
      ],
      "metadata": {
        "id": "3Q0nxdVHN7bk"
      }
    },
    {
      "cell_type": "code",
      "source": [
        "df['density_timestamp'] = df['total_timestamps'] / df['Average_Playing_density']"
      ],
      "metadata": {
        "id": "AIUHnANrzen_"
      },
      "execution_count": 8,
      "outputs": []
    },
    {
      "cell_type": "markdown",
      "source": [
        "# Handling Outliers"
      ],
      "metadata": {
        "id": "_TumCnOGBCeQ"
      }
    },
    {
      "cell_type": "markdown",
      "source": [
        "Rather than using the classical outlier suppression approach, I opted for a binning method to handle outliers. This decision was driven by the observation that churned players and non-churned players exhibit significantly different mean and median values. Given these differences, applying a uniform suppression technique could lead to information loss or distort key patterns in the data. Instead, I implemented a binning approach based on each group's median, mean, and interquartile range (IQR). This method ensures that outliers are managed in a way that respects the inherent distribution of each player category, allowing for more meaningful insights and better model performance."
      ],
      "metadata": {
        "id": "aIYIhL8-CoA7"
      }
    },
    {
      "cell_type": "code",
      "source": [
        "df.loc[df['total_timestamps'] < 3,'Binned_Timestamps'] = 0\n",
        "df.loc[(df['total_timestamps'] >= 3) & (df['total_timestamps'] < 28),'Binned_Timestamps'] = 1\n",
        "df.loc[(df['total_timestamps'] >= 28) & (df['total_timestamps'] < 43),'Binned_Timestamps'] = 2\n",
        "df.loc[(df['total_timestamps'] >= 43) & (df['total_timestamps'] < 128),'Binned_Timestamps'] = 3\n",
        "df.loc[(df['total_timestamps'] >= 128),'Binned_Timestamps'] = 3"
      ],
      "metadata": {
        "id": "eWDuVpi0Bz9s"
      },
      "execution_count": 11,
      "outputs": []
    },
    {
      "cell_type": "code",
      "source": [
        "df.loc[df['max_level'] < 3,'Binned_Level'] = 0\n",
        "df.loc[(df['max_level'] >= 3) & (df['max_level'] < 14),'Binned_Level'] = 1\n",
        "df.loc[(df['max_level'] >= 14) & (df['max_level'] < 18),'Binned_Level'] = 2\n",
        "df.loc[ (df['max_level'] >= 18) & (df['max_level'] < 60) ,'Binned_Level'] = 3\n",
        "df.loc[ (df['max_level'] >= 60) & (df['max_level'] < 70) ,'Binned_Level'] = 4\n",
        "df.loc[ (df['max_level'] >= 70) ,'Binned_Level'] = 5"
      ],
      "metadata": {
        "id": "QIRBAVJ1GIVU"
      },
      "execution_count": 12,
      "outputs": []
    },
    {
      "cell_type": "code",
      "source": [
        "df.loc[df['unique_days'] < 3,'Binned_Unique_Days'] = 0\n",
        "df.loc[(df['unique_days'] >= 3) & (df['unique_days'] < 11),'Binned_Unique_Days'] = 1\n",
        "df.loc[(df['unique_days'] >= 11) & (df['unique_days'] < 25),'Binned_Unique_Days'] = 2\n",
        "df.loc[ (df['unique_days'] >= 25) & (df['unique_days'] < 40),'Binned_Unique_Days'] = 3\n",
        "df.loc[ (df['unique_days'] >= 40) & (df['unique_days'] < 105),'Binned_Unique_Days'] = 4\n",
        "df.loc[ (df['unique_days'] >= 105) ,'Binned_Unique_Days'] = 5"
      ],
      "metadata": {
        "id": "aCG8x8osmaG2"
      },
      "execution_count": 13,
      "outputs": []
    },
    {
      "cell_type": "code",
      "source": [
        "df.loc[df['Average_Hour'] < 0.33,'Binned_Average_Hour'] = 0\n",
        "df.loc[(df['Average_Hour'] >= 0.33) & (df['Average_Hour'] < 0.43),'Binned_Average_Hour'] = 1\n",
        "df.loc[(df['Average_Hour'] >= 0.43 ) & (df['Average_Hour'] < 1.0),'Binned_Average_Hour'] = 2\n",
        "df.loc[ (df['Average_Hour'] >= 1) & (df['Average_Hour'] < 2.6) ,'Binned_Average_Hour'] = 3\n",
        "df.loc[(df['Average_Hour'] >= 2.6) & (df['Average_Hour'] < 6.0) ,'Binned_Average_Hour'] = 4\n",
        "df.loc[ (df['Average_Hour'] >= 5.0) ,'Binned_Average_Hour'] = 5"
      ],
      "metadata": {
        "id": "d-L5eoPAtI0y"
      },
      "execution_count": 14,
      "outputs": []
    },
    {
      "cell_type": "code",
      "source": [
        "df.loc[df['Average_Playing_density'] <0.66,'Binned_Average_Density'] = 0\n",
        "df.loc[(df['Average_Playing_density'] >= 0.66) & (df['Average_Playing_density'] < 0.127),'Binned_Average_Density'] = 1\n",
        "df.loc[(df['Average_Playing_density'] >= 0.127) & (df['Average_Playing_density'] < 0.342),'Binned_Average_Density'] = 2\n",
        "df.loc[ (df['Average_Playing_density'] >= 0.342),'Binned_Average_Density'] = 3"
      ],
      "metadata": {
        "id": "mlwHqpX00GBk"
      },
      "execution_count": 15,
      "outputs": []
    },
    {
      "cell_type": "code",
      "source": [
        "sns.heatmap(df.corr())"
      ],
      "metadata": {
        "colab": {
          "base_uri": "https://localhost:8080/",
          "height": 612
        },
        "id": "hGWT0WE_hpr_",
        "outputId": "90b836a3-8b4a-4489-9eec-be560f0cce41"
      },
      "execution_count": 16,
      "outputs": [
        {
          "output_type": "execute_result",
          "data": {
            "text/plain": [
              "<Axes: >"
            ]
          },
          "metadata": {},
          "execution_count": 16
        },
        {
          "output_type": "display_data",
          "data": {
            "text/plain": [
              "<Figure size 640x480 with 2 Axes>"
            ],
            "image/png": "[encoded data removed]"
          },
          "metadata": {}
        }
      ]
    },
    {
      "cell_type": "markdown",
      "source": [
        "After analyzing the correlation between my newly engineered features and the original features, I observed that the new features exhibit a moderate level of correlation with the existing ones. Notably, they do not show either a weak (low) correlation or a strong (high) correlation. This suggests that the newly created features capture additional meaningful patterns in the data without being redundant or overly dependent on the original variables. This balance is crucial, as it ensures that the new features contribute valuable information to the model without introducing excessive multicollinearity."
      ],
      "metadata": {
        "id": "tlO4hYvJC9fa"
      }
    },
    {
      "cell_type": "markdown",
      "source": [
        "# Model Building"
      ],
      "metadata": {
        "id": "3TsiKwARC3GT"
      }
    },
    {
      "cell_type": "markdown",
      "source": [
        "In this section, I selected models based on well-established classification algorithms that are widely used in machine learning. The chosen models represent a diverse range of approaches, ensuring a comprehensive evaluation of different techniques for churn prediction. By leveraging these well-known algorithms, I aim to compare their performance and identify the most effective model for accurately predicting player churn."
      ],
      "metadata": {
        "id": "tJ_5KNK6QCie"
      }
    },
    {
      "cell_type": "code",
      "source": [
        "X = df[['density_timestamp','Binned_Timestamps','Binned_Level','Binned_Unique_Days','Binned_Average_Hour','Binned_Average_Density']]\n",
        "y = df['Playing_after_6_months']"
      ],
      "metadata": {
        "id": "U_61C4Erioyu"
      },
      "execution_count": 19,
      "outputs": []
    },
    {
      "cell_type": "code",
      "source": [
        "#Importing all the necessary libraries\n",
        "from sklearn.ensemble import RandomForestClassifier\n",
        "from sklearn.naive_bayes import GaussianNB\n",
        "from sklearn.linear_model import LogisticRegression\n",
        "from sklearn.svm import SVC\n",
        "from sklearn.neighbors import KNeighborsClassifier\n",
        "from sklearn.tree import DecisionTreeClassifier\n",
        "from sklearn.ensemble import GradientBoostingClassifier\n",
        "from sklearn.ensemble import AdaBoostClassifier\n",
        "from sklearn.ensemble import ExtraTreesClassifier\n",
        "from sklearn.ensemble import BaggingClassifier\n",
        "from sklearn.ensemble import VotingClassifier\n",
        "from sklearn.naive_bayes import BernoulliNB\n",
        "#metrikler\n",
        "from sklearn.model_selection import cross_val_score\n",
        "#accuaracy\n",
        "from sklearn.metrics import accuracy_score, confusion_matrix, classification_report\n",
        "from sklearn.model_selection import train_test_split"
      ],
      "metadata": {
        "id": "I28T5ZoW1HVb"
      },
      "execution_count": 20,
      "outputs": []
    },
    {
      "cell_type": "code",
      "source": [
        "def model_classification(X,y):\n",
        "    '''\n",
        "    X: independent variable\n",
        "    y: dependent variable\n",
        "    return best model and its accuracy\n",
        "    '''\n",
        "    x_train,x_test,y_train,y_test=train_test_split(X,y,test_size=0.3,random_state=42)\n",
        "    models = [GaussianNB(),BernoulliNB(),LogisticRegression(),RandomForestClassifier(),\n",
        "              GradientBoostingClassifier(), KNeighborsClassifier(n_neighbors=5)]\n",
        "    results=[]\n",
        "    for model in models:\n",
        "        model.fit(x_train,y_train)\n",
        "        model_predict=model.predict(x_test)\n",
        "        print(\"Model: \",model)\n",
        "        print(\"Model Accuracy: \",accuracy_score(model_predict,y_test))\n",
        "        print(\"Model Confusion Matrix: \",confusion_matrix(model_predict,y_test),\"\\n\")\n",
        "        print(\"Model Classification Report: \",classification_report(model_predict,y_test))\n",
        "        print(\"-\"*50)\n",
        "        results.append(accuracy_score(model_predict,y_test))\n",
        "    #best model\n",
        "    best_model=models[results.index(max(results))]\n",
        "    print(\"Best Model: \",best_model)\n",
        "    print(\"Best Model Accuracy: \",max(results))\n",
        "    models=pd.DataFrame({\n",
        "        'Model':['GaussianNB','BernoulliNB','LogisticRegression','RandomForestClassifier', 'GradientBoostingClassifier', 'KNeighborsClassifier'],\n",
        "        'Score':results})\n",
        "    print(models.sort_values(by='Score', ascending=False, ignore_index=True))\n",
        "    return best_model,max(results), confusion_matrix(model_predict,y_test)"
      ],
      "metadata": {
        "id": "dl07rLte11Fw"
      },
      "execution_count": 21,
      "outputs": []
    },
    {
      "cell_type": "code",
      "source": [
        "model_classification(X,y)"
      ],
      "metadata": {
        "colab": {
          "base_uri": "https://localhost:8080/"
        },
        "id": "uI__7PCX12F6",
        "outputId": "f259efb3-3616-45fc-e679-c3a97ad7b570"
      },
      "execution_count": 22,
      "outputs": [
        {
          "output_type": "stream",
          "name": "stdout",
          "text": [
            "Model:  GaussianNB()\n",
            "Model Accuracy:  0.8442045150352459\n",
            "Model Confusion Matrix:  [[7780  777]\n",
            " [ 969 1681]] \n",
            "\n",
            "Model Classification Report:                precision    recall  f1-score   support\n",
            "\n",
            "           0       0.89      0.91      0.90      8557\n",
            "           1       0.68      0.63      0.66      2650\n",
            "\n",
            "    accuracy                           0.84     11207\n",
            "   macro avg       0.79      0.77      0.78     11207\n",
            "weighted avg       0.84      0.84      0.84     11207\n",
            "\n",
            "--------------------------------------------------\n",
            "Model:  BernoulliNB()\n",
            "Model Accuracy:  0.7572945480503257\n",
            "Model Confusion Matrix:  [[6572  543]\n",
            " [2177 1915]] \n",
            "\n",
            "Model Classification Report:                precision    recall  f1-score   support\n",
            "\n",
            "           0       0.75      0.92      0.83      7115\n",
            "           1       0.78      0.47      0.58      4092\n",
            "\n",
            "    accuracy                           0.76     11207\n",
            "   macro avg       0.77      0.70      0.71     11207\n",
            "weighted avg       0.76      0.76      0.74     11207\n",
            "\n",
            "--------------------------------------------------\n"
          ]
        },
        {
          "output_type": "stream",
          "name": "stderr",
          "text": [
            "/usr/local/lib/python3.11/dist-packages/sklearn/linear_model/_logistic.py:465: ConvergenceWarning: lbfgs failed to converge (status=1):\n",
            "STOP: TOTAL NO. of ITERATIONS REACHED LIMIT.\n",
            "\n",
            "Increase the number of iterations (max_iter) or scale the data as shown in:\n",
            "    https://scikit-learn.org/stable/modules/preprocessing.html\n",
            "Please also refer to the documentation for alternative solver options:\n",
            "    https://scikit-learn.org/stable/modules/linear_model.html#logistic-regression\n",
            "  n_iter_i = _check_optimize_result(\n"
          ]
        },
        {
          "output_type": "stream",
          "name": "stdout",
          "text": [
            "Model:  LogisticRegression()\n",
            "Model Accuracy:  0.9400374765771393\n",
            "Model Confusion Matrix:  [[8516  439]\n",
            " [ 233 2019]] \n",
            "\n",
            "Model Classification Report:                precision    recall  f1-score   support\n",
            "\n",
            "           0       0.97      0.95      0.96      8955\n",
            "           1       0.82      0.90      0.86      2252\n",
            "\n",
            "    accuracy                           0.94     11207\n",
            "   macro avg       0.90      0.92      0.91     11207\n",
            "weighted avg       0.94      0.94      0.94     11207\n",
            "\n",
            "--------------------------------------------------\n",
            "Model:  RandomForestClassifier()\n",
            "Model Accuracy:  0.9782278932809851\n",
            "Model Confusion Matrix:  [[8618  113]\n",
            " [ 131 2345]] \n",
            "\n",
            "Model Classification Report:                precision    recall  f1-score   support\n",
            "\n",
            "           0       0.99      0.99      0.99      8731\n",
            "           1       0.95      0.95      0.95      2476\n",
            "\n",
            "    accuracy                           0.98     11207\n",
            "   macro avg       0.97      0.97      0.97     11207\n",
            "weighted avg       0.98      0.98      0.98     11207\n",
            "\n",
            "--------------------------------------------------\n",
            "Model:  GradientBoostingClassifier()\n",
            "Model Accuracy:  0.9806371018113679\n",
            "Model Confusion Matrix:  [[8589   57]\n",
            " [ 160 2401]] \n",
            "\n",
            "Model Classification Report:                precision    recall  f1-score   support\n",
            "\n",
            "           0       0.98      0.99      0.99      8646\n",
            "           1       0.98      0.94      0.96      2561\n",
            "\n",
            "    accuracy                           0.98     11207\n",
            "   macro avg       0.98      0.97      0.97     11207\n",
            "weighted avg       0.98      0.98      0.98     11207\n",
            "\n",
            "--------------------------------------------------\n",
            "Model:  KNeighborsClassifier()\n",
            "Model Accuracy:  0.9460158829303114\n",
            "Model Confusion Matrix:  [[8406  262]\n",
            " [ 343 2196]] \n",
            "\n",
            "Model Classification Report:                precision    recall  f1-score   support\n",
            "\n",
            "           0       0.96      0.97      0.97      8668\n",
            "           1       0.89      0.86      0.88      2539\n",
            "\n",
            "    accuracy                           0.95     11207\n",
            "   macro avg       0.93      0.92      0.92     11207\n",
            "weighted avg       0.95      0.95      0.95     11207\n",
            "\n",
            "--------------------------------------------------\n",
            "Best Model:  GradientBoostingClassifier()\n",
            "Best Model Accuracy:  0.9806371018113679\n",
            "                        Model  Score\n",
            "0  GradientBoostingClassifier  0.981\n",
            "1      RandomForestClassifier  0.978\n",
            "2        KNeighborsClassifier  0.946\n",
            "3          LogisticRegression  0.940\n",
            "4                  GaussianNB  0.844\n",
            "5                 BernoulliNB  0.757\n"
          ]
        },
        {
          "output_type": "execute_result",
          "data": {
            "text/plain": [
              "(GradientBoostingClassifier(),\n",
              " 0.9806371018113679,\n",
              " array([[8406,  262],\n",
              "        [ 343, 2196]]))"
            ]
          },
          "metadata": {},
          "execution_count": 22
        }
      ]
    },
    {
      "cell_type": "markdown",
      "source": [
        "Based on the evaluation results, I selected the Gradient Boosting Classifier as the final model. This decision was driven by its superior performance compared to other classification algorithms, demonstrating a strong balance between accuracy, precision, and recall. Gradient Boosting's ability to handle complex patterns and its robustness against overfitting make it a suitable choice for predicting player churn effectively."
      ],
      "metadata": {
        "id": "vrC8pFTTQd3q"
      }
    },
    {
      "cell_type": "markdown",
      "source": [
        "# Cross Validation"
      ],
      "metadata": {
        "id": "mU9CjTrwQ35B"
      }
    },
    {
      "cell_type": "markdown",
      "source": [
        "To ensure that the observed results were not merely due to chance, I incorporated cross-validation into the evaluation process. By applying cross-validation, I aimed to assess the model’s performance across multiple subsets of the data, reducing the risk of overfitting and ensuring that the results were consistent and reliable. This step provided a more robust validation of the Gradient Boosting Classifier's effectiveness in predicting player churn."
      ],
      "metadata": {
        "id": "lw1esGvxQ7xZ"
      }
    },
    {
      "cell_type": "code",
      "source": [
        "from operator import mod\n",
        "from sklearn.model_selection import cross_val_score\n",
        "from sklearn.ensemble import GradientBoostingClassifier\n",
        "\n",
        "model = GradientBoostingClassifier()\n",
        "\n",
        "scores = cross_val_score(model, X, y, cv=5, scoring='accuracy')\n",
        "\n",
        "print(\"Average Accuracy:\", np.mean(scores))"
      ],
      "metadata": {
        "colab": {
          "base_uri": "https://localhost:8080/"
        },
        "id": "kLzQG-GuEQ59",
        "outputId": "976b97ee-4d90-447a-e463-a1a30c6ff0c4"
      },
      "execution_count": 23,
      "outputs": [
        {
          "output_type": "stream",
          "name": "stdout",
          "text": [
            "Average Accuracy: 0.975799096085408\n"
          ]
        }
      ]
    },
    {
      "cell_type": "markdown",
      "source": [
        "Based on the cross-validation results, I observed a slight variation compared to the previous evaluation. However, this difference is minor and within an acceptable range, confirming the reliability of the model’s performance. Given this consistency, I will proceed with Fine tuning to further optimize the model and enhance its predictive accuracy."
      ],
      "metadata": {
        "id": "aciqtU9SRex0"
      }
    },
    {
      "cell_type": "markdown",
      "source": [
        "# Fine Tuning"
      ],
      "metadata": {
        "id": "OHC3OqtjTGOs"
      }
    },
    {
      "cell_type": "markdown",
      "source": [
        "To further enhance the model's performance, I applied GridSearchCV for hyperparameter tuning. This approach systematically searches through a predefined set of parameter values to identify the optimal combination that maximizes the model's predictive accuracy. By leveraging GridSearchCV, I aim to fine-tune the model and improve its generalization ability for better churn prediction.\n",
        "\n"
      ],
      "metadata": {
        "id": "_s8PCq_RVraF"
      }
    },
    {
      "cell_type": "code",
      "source": [
        "from sklearn.model_selection import GridSearchCV\n",
        "\n",
        "# Hiperparameter range\n",
        "param_grid = {\n",
        "    'n_estimators': [100, 200, 300],\n",
        "    'learning_rate': [0.01, 0.1, 0.2],\n",
        "    'max_depth': [3, 4, 5]\n",
        "}\n",
        "\n",
        "\n",
        "grid_search = GridSearchCV(GradientBoostingClassifier(), param_grid, cv=5, scoring='accuracy', n_jobs=-1)\n",
        "grid_search.fit(X, y)\n",
        "\n",
        "print(\"Best Parameter:\", grid_search.best_params_)\n",
        "print(\"Best score:\", grid_search.best_score_)"
      ],
      "metadata": {
        "id": "jFmFzIF713-g",
        "colab": {
          "base_uri": "https://localhost:8080/"
        },
        "outputId": "0fba28b9-c8ad-4649-87f2-411f11ee1ceb"
      },
      "execution_count": 24,
      "outputs": [
        {
          "output_type": "stream",
          "name": "stdout",
          "text": [
            "Best Parameter: {'learning_rate': 0.2, 'max_depth': 3, 'n_estimators': 100}\n",
            "Best score: 0.9773785509234546\n"
          ]
        }
      ]
    },
    {
      "cell_type": "code",
      "source": [
        "x_train,x_test,y_train,y_test=train_test_split(X,y,test_size=0.3,random_state=42)\n",
        "\n",
        "model = GradientBoostingClassifier(n_estimators=200, learning_rate=0.1, max_depth=4)\n",
        "\n",
        "model.fit(x_train,y_train)\n",
        "\n",
        "model_predict=model.predict(x_test)\n",
        "\n",
        "print(\"Model Accuracy: \",accuracy_score(model_predict,y_test))\n",
        "\n",
        "\n",
        "\n",
        "\n"
      ],
      "metadata": {
        "colab": {
          "base_uri": "https://localhost:8080/"
        },
        "id": "pYGcdYNk7qfE",
        "outputId": "b23622d6-31c7-4ee0-de0e-5c361e1ee226"
      },
      "execution_count": 25,
      "outputs": [
        {
          "output_type": "stream",
          "name": "stdout",
          "text": [
            "Model Accuracy:  0.9813509413759257\n"
          ]
        }
      ]
    },
    {
      "cell_type": "markdown",
      "source": [
        "# Saving Model"
      ],
      "metadata": {
        "id": "PNVAnuOOXexu"
      }
    },
    {
      "cell_type": "markdown",
      "source": [
        "Since this model can be integrated into real-world applications, I want to ensure that the process is efficient and does not require retraining from scratch each time. To achieve this, I will focus on saving the trained model for future use, allowing for seamless deployment without the need to restart the entire training process. This approach enhances efficiency and ensures that the model can be quickly utilized when needed."
      ],
      "metadata": {
        "id": "u-jnyNwhXjZh"
      }
    },
    {
      "cell_type": "code",
      "source": [
        "import pickle\n",
        "\n",
        "with open('model.pkl', 'wb') as file:\n",
        "    pickle.dump(model, file)"
      ],
      "metadata": {
        "id": "ZtEkH0te-DvO"
      },
      "execution_count": 26,
      "outputs": []
    },
    {
      "cell_type": "markdown",
      "source": [
        "# Crating Pipeline"
      ],
      "metadata": {
        "id": "AHjkNxk7YgqF"
      }
    },
    {
      "cell_type": "markdown",
      "source": [
        "To enhance efficiency and reusability, I plan to create a machine learning pipeline using functions. This pipeline will streamline the entire workflow, from data preprocessing to model training and prediction, ensuring that the process can be easily replicated and applied to new data without manual intervention. By structuring the workflow into modular functions, I aim to improve scalability, maintainability, and automation for future applications."
      ],
      "metadata": {
        "id": "Ts7JWq8ZYuX8"
      }
    },
    {
      "cell_type": "code",
      "source": [
        "def wow_predict(dataframe):\n",
        "\n",
        "\n",
        "  #Feature Interactions:\n",
        "\n",
        "  dataframe['density_timestamp'] = dataframe['total_timestamps'] / dataframe['Average_Playing_density']\n",
        "\n",
        "  #Handling Outliers\n",
        "\n",
        "  dataframe.loc[dataframe['total_timestamps'] < 3,'Binned_Timestamps'] = 0\n",
        "  dataframe.loc[(dataframe['total_timestamps'] >= 3) & (dataframe['total_timestamps'] < 28),'Binned_Timestamps'] = 1\n",
        "  dataframe.loc[(df['total_timestamps'] >= 28) & (dataframe['total_timestamps'] < 43),'Binned_Timestamps'] = 2\n",
        "  dataframe.loc[(df['total_timestamps'] >= 43) & (dataframe['total_timestamps'] < 128),'Binned_Timestamps'] = 3\n",
        "  dataframe.loc[(df['total_timestamps'] >= 128),'Binned_Timestamps'] = 3\n",
        "\n",
        "\n",
        "  dataframe.loc[dataframe['max_level'] < 3,'Binned_Level'] = 0\n",
        "  dataframe.loc[(df['max_level'] >= 3) & (dataframe['max_level'] < 14),'Binned_Level'] = 1\n",
        "  dataframe.loc[(df['max_level'] >= 14) & (dataframe['max_level'] < 18),'Binned_Level'] = 2\n",
        "  dataframe.loc[ (df['max_level'] >= 18) & (dataframe['max_level'] < 60) ,'Binned_Level'] = 3\n",
        "  dataframe.loc[ (df['max_level'] >= 60) & (dataframe['max_level'] < 70) ,'Binned_Level'] = 4\n",
        "  dataframe.loc[ (df['max_level'] >= 70) ,'Binned_Level'] = 5\n",
        "\n",
        "  dataframe.loc[dataframe['unique_days'] < 3,'Binned_Unique_Days'] = 0\n",
        "  dataframe.loc[(dataframe['unique_days'] >= 3) & (dataframe['unique_days'] < 11),'Binned_Unique_Days'] = 1\n",
        "  dataframe.loc[(dataframe['unique_days'] >= 11) & (dataframe['unique_days'] < 25),'Binned_Unique_Days'] = 2\n",
        "  dataframe.loc[ (df['unique_days'] >= 25) & (dataframe['unique_days'] < 40),'Binned_Unique_Days'] = 3\n",
        "  dataframe.loc[ (df['unique_days'] >= 40) & (dataframe['unique_days'] < 105),'Binned_Unique_Days'] = 4\n",
        "  dataframe.loc[ (df['unique_days'] >= 105) ,'Binned_Unique_Days'] = 5\n",
        "\n",
        "\n",
        "  dataframe.loc[df['Average_Hour'] < 0.33,'Binned_Average_Hour'] = 0\n",
        "  dataframe.loc[(df['Average_Hour'] >= 0.33) & (dataframe['Average_Hour'] < 0.43),'Binned_Average_Hour'] = 1\n",
        "  dataframe.loc[(df['Average_Hour'] >= 0.43 ) & (dataframe['Average_Hour'] < 1.0),'Binned_Average_Hour'] = 2\n",
        "  dataframe.loc[ (df['Average_Hour'] >= 1) & (dataframe['Average_Hour'] < 2.6) ,'Binned_Average_Hour'] = 3\n",
        "  dataframe.loc[(df['Average_Hour'] >= 2.6) & (dataframe['Average_Hour'] < 6.0) ,'Binned_Average_Hour'] = 4\n",
        "  dataframe.loc[ (df['Average_Hour'] >= 5.0) ,'Binned_Average_Hour'] = 5\n",
        "\n",
        "\n",
        "  dataframe.loc[df['Average_Playing_density'] <0.66,'Binned_Average_Density'] = 0\n",
        "  dataframe.loc[(df['Average_Playing_density'] >= 0.66) & (dataframe['Average_Playing_density'] < 0.127),'Binned_Average_Density'] = 1\n",
        "  dataframe.loc[(df['Average_Playing_density'] >= 0.127) & (df['Average_Playing_density'] < 0.342),'Binned_Average_Density'] = 2\n",
        "  dataframe.loc[ (df['Average_Playing_density'] >= 0.342),'Binned_Average_Density'] = 3\n",
        "\n",
        "\n",
        "# Data Seperation\n",
        "\n",
        "  X = df[['density_timestamp','Binned_Timestamps','Binned_Level','Binned_Unique_Days','Binned_Average_Hour','Binned_Average_Density']]\n",
        "\n",
        "  return X\n"
      ],
      "metadata": {
        "id": "YhJVP9uqYIO-"
      },
      "execution_count": 30,
      "outputs": []
    },
    {
      "cell_type": "code",
      "source": [
        "def model_prediction(X,pickle_file):\n",
        "  #Import necessary libraries\n",
        "  import pickle\n",
        "  from sklearn.ensemble import GradientBoostingClassifier\n",
        "\n",
        "  #Import model\n",
        "  with open('model.pkl', 'rb') as file:\n",
        "      model = pickle.load(pickle_file)\n",
        "  model_predict=model.predict(X)\n",
        "\n",
        "  return model_predict"
      ],
      "metadata": {
        "id": "gPKh7BCRcuGR"
      },
      "execution_count": 31,
      "outputs": []
    }
  ]
}